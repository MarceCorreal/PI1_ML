{
 "cells": [
  {
   "cell_type": "markdown",
   "metadata": {},
   "source": [
    "Se tiene que realizar el desarrollo  dos modelos de recomendación. Estos modelos generan listas de 5 juegos al ingresar el nombre de un juego o el ID de un usuario.\n",
    "\n",
    "En el primer caso, el modelo utiliza una relación ítem-ítem, sugiriendo juegos similares basándose en la similitud con el juego proporcionado.\n",
    "\n",
    "En el segundo caso, el modelo emplea un filtro usuario-juego, identificando usuarios similares y recomendando juegos que hayan sido apreciados por esos usuarios.\n",
    "\n",
    "Para lo anterior se hará uso de algoritmos basados en la memoria, filtrando mediante el análisis de toda la base de datos. El objetivo es encontrar usuarios similares al usuario activo y utilizar sus preferencias para prever las valoraciones del usuario activo."
   ]
  },
  {
   "cell_type": "code",
   "execution_count": 1,
   "metadata": {},
   "outputs": [],
   "source": [
    "# Bibliotecas\n",
    "\n",
    "import pandas as pd\n",
    "import numpy as np\n",
    "\n",
    "import scipy as sp\n",
    "from sklearn.metrics.pairwise import cosine_similarity\n",
    "import operator\n",
    "\n",
    "import pyarrow as pa\n",
    "import pyarrow.parquet as pq"
   ]
  },
  {
   "cell_type": "code",
   "execution_count": null,
   "metadata": {},
   "outputs": [],
   "source": [
    "# Para el modelo abriré el df que se realizó para el modelo\n",
    "\n",
    "ruta_parquet = r\"C:\\Users\\Usuario\\Henry\\PI1_ML\\Funciones\\developer_reviews_analysis\\dataset_endpoint_5.parquet\"\n",
    "\n",
    "# Leer el archivo CSV y convertirlo en un DataFrame\n",
    "df_endpoint_5= pd.read_parquet(ruta_parquet)\n",
    "\n"
   ]
  }
 ],
 "metadata": {
  "kernelspec": {
   "display_name": "venv",
   "language": "python",
   "name": "python3"
  },
  "language_info": {
   "codemirror_mode": {
    "name": "ipython",
    "version": 3
   },
   "file_extension": ".py",
   "mimetype": "text/x-python",
   "name": "python",
   "nbconvert_exporter": "python",
   "pygments_lexer": "ipython3",
   "version": "3.12.1"
  }
 },
 "nbformat": 4,
 "nbformat_minor": 2
}
