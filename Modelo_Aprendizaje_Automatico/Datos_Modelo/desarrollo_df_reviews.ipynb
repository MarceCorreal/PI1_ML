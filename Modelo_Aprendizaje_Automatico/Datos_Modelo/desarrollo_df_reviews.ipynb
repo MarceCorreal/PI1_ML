{
 "cells": [
  {
   "cell_type": "code",
   "execution_count": 33,
   "metadata": {},
   "outputs": [],
   "source": [
    "# Importaciones de bibliotecas necesarias\n",
    "import pandas as pd  # Pandas para manipulación de datos tabulares\n",
    "import json  # Módulo para trabajar con JSON\n",
    "import ast  # Módulo para evaluar expresiones literales de Python\n",
    "import re  # Módulo para trabajar con expresiones regulares\n",
    "from textblob import TextBlob # Importa la clase TextBlob desde la biblioteca TextBlob\n",
    "import nltk # Importa la biblioteca nltk (Natural Language Toolkit)\n",
    "import csv # Importa el módulo csv en Python\n",
    "\n",
    "\n",
    "# Importa el módulo de advertencias y configura para ignorar todas las advertencias\n",
    "import warnings\n",
    "warnings.filterwarnings(\"ignore\")"
   ]
  },
  {
   "cell_type": "code",
   "execution_count": 2,
   "metadata": {},
   "outputs": [
    {
     "data": {
      "text/plain": [
       "'  El objetivo del modelo de recomendación es generar una lista de 5 juegos \\nal proporcionar el nombre de un juego o el ID de un usuario. \\nEsta recomendación se basa en un puntaje que debe ser determinado. \\nPara lograr esto, se examinan los dataframes df_reviews y df_items, los cuales fueron analizados previamente.'"
      ]
     },
     "execution_count": 2,
     "metadata": {},
     "output_type": "execute_result"
    }
   ],
   "source": [
    "'''  El objetivo del modelo de recomendación es generar una lista de 5 juegos \n",
    "al proporcionar el nombre de un juego o el ID de un usuario. \n",
    "Esta recomendación se basa en un puntaje que debe ser determinado. \n",
    "Para lograr esto, se examinan los dataframes df_reviews y df_items, los cuales fueron analizados previamente.'''"
   ]
  },
  {
   "cell_type": "code",
   "execution_count": null,
   "metadata": {},
   "outputs": [],
   "source": [
    "''' En esteNotebook se realiza el Análisis Exploratorio de los datos de los tres conjuntos de datos de lla consigna\n",
    "ya limpios para elegir  las variables que serán usadas para entrenar el modelo de recomendación solicitado.\n",
    "Esto reducirá el tamaño de los df y solo incluirá los datos necesarios'''"
   ]
  },
  {
   "cell_type": "code",
   "execution_count": null,
   "metadata": {},
   "outputs": [],
   "source": [
    "# Abro archivo user_reviews y lo renombro df_reviews para diferenciarlo de los APIs\n",
    "\n",
    "ruta_df_reviews = r\"C:\\Users\\Usuario\\Henry\\PI1_ML\\DataSet-EDAs\\df_user_reviews.parquet\"\n",
    "df_reviews = pd.read_parquet(ruta_df_reviews)\n",
    "df_reviews.head()"
   ]
  },
  {
   "cell_type": "code",
   "execution_count": null,
   "metadata": {},
   "outputs": [],
   "source": [
    "# Abro df_reviews_helpful\n",
    "ruta_df_reviews_helpful =r\"C:\\Users\\Usuario\\Henry\\PI1_ML\\Modelo_Aprendizaje_Automatico\\Datos_Modelo\\df_user_reviews_helpful.parquet\"\n",
    "df_reviews_helpful = pd.read_parquet(ruta_df_reviews_helpful)\n",
    "df_reviews_helpful"
   ]
  },
  {
   "cell_type": "code",
   "execution_count": null,
   "metadata": {},
   "outputs": [],
   "source": [
    "# Hago merge con la columna helpful del dataframe original del \n",
    "# user_reviews. para eso abro el dataframe df_user_reviews_sentimiento. para eso abro el df que hice en eda_users_reviews_helpful\n",
    "# Hago esta vuenta por que el df_reviews ya está limpio\n",
    "\n",
    "df_reviews = pd.merge(df_reviews, df_reviews_helpful, on='item_id', how='inner')\n",
    "df_reviews.head()"
   ]
  },
  {
   "cell_type": "code",
   "execution_count": null,
   "metadata": {},
   "outputs": [],
   "source": [
    "df_reviews.info()"
   ]
  },
  {
   "cell_type": "code",
   "execution_count": 38,
   "metadata": {},
   "outputs": [
    {
     "name": "stdout",
     "output_type": "stream",
     "text": [
      "La cantidad de registros que hay son: {43706993}\n"
     ]
    }
   ],
   "source": [
    "# Reviso número de registros\n",
    "\n",
    "print(f'La cantidad de registros que hay son:', {df_reviews.shape[0]})"
   ]
  },
  {
   "cell_type": "code",
   "execution_count": 39,
   "metadata": {},
   "outputs": [],
   "source": [
    "# Borro NA\n",
    "\n",
    "df_reviews = df_reviews.dropna()"
   ]
  },
  {
   "cell_type": "code",
   "execution_count": 36,
   "metadata": {},
   "outputs": [],
   "source": [
    "# Pero realmente necesito solo los registros que tengan información en reviews_helpful     \n",
    "# así que borro los que tengan en esa casillas y para eso voy a revisar los valores unicos"
   ]
  },
  {
   "cell_type": "code",
   "execution_count": null,
   "metadata": {},
   "outputs": [],
   "source": [
    "df_reviews.head()"
   ]
  },
  {
   "cell_type": "code",
   "execution_count": 13,
   "metadata": {},
   "outputs": [
    {
     "data": {
      "text/plain": [
       "(43706993, 7)"
      ]
     },
     "execution_count": 13,
     "metadata": {},
     "output_type": "execute_result"
    }
   ],
   "source": [
    "df_reviews.shape"
   ]
  },
  {
   "cell_type": "code",
   "execution_count": 40,
   "metadata": {},
   "outputs": [],
   "source": [
    "# Elimino duplicados\n",
    "df_reviews = df_reviews.drop_duplicates()\n"
   ]
  },
  {
   "cell_type": "code",
   "execution_count": 41,
   "metadata": {},
   "outputs": [
    {
     "data": {
      "text/plain": [
       "(1741916, 7)"
      ]
     },
     "execution_count": 41,
     "metadata": {},
     "output_type": "execute_result"
    }
   ],
   "source": [
    "df_reviews.shape"
   ]
  },
  {
   "cell_type": "code",
   "execution_count": 42,
   "metadata": {},
   "outputs": [],
   "source": [
    "# Cambio nombre las columnas con reviews adelanta para saber que la info viene del original review\n",
    "\n",
    "df_reviews.rename(columns={'posted': 'reviews_date'}, inplace=True)\n"
   ]
  },
  {
   "cell_type": "code",
   "execution_count": 43,
   "metadata": {},
   "outputs": [],
   "source": [
    "df_reviews.rename(columns={'recommend': 'reviews_recommend'}, inplace=True)"
   ]
  },
  {
   "cell_type": "code",
   "execution_count": 44,
   "metadata": {},
   "outputs": [],
   "source": [
    "df_reviews.rename(columns={'helpful': 'reviews_helpful'}, inplace=True)"
   ]
  },
  {
   "cell_type": "code",
   "execution_count": 45,
   "metadata": {},
   "outputs": [],
   "source": [
    "df_reviews.rename(columns={'item_id': 'reviews_item_id'}, inplace=True)"
   ]
  },
  {
   "cell_type": "code",
   "execution_count": null,
   "metadata": {},
   "outputs": [],
   "source": [
    "df_reviews.head()"
   ]
  },
  {
   "cell_type": "code",
   "execution_count": 47,
   "metadata": {},
   "outputs": [],
   "source": [
    "# Como necesito solo las filas que tienen puntuación borro los  registros que dicen No ratings yet\n",
    "\n",
    "valor_a_eliminar = 'No ratings yet'\n",
    "\n",
    "\n",
    "df_reviews = df_reviews[df_reviews.apply(lambda row: valor_a_eliminar not in row.values, axis=1)]\n"
   ]
  },
  {
   "cell_type": "code",
   "execution_count": 48,
   "metadata": {},
   "outputs": [
    {
     "data": {
      "text/plain": [
       "(1685956, 7)"
      ]
     },
     "execution_count": 48,
     "metadata": {},
     "output_type": "execute_result"
    }
   ],
   "source": [
    "df_reviews.shape"
   ]
  },
  {
   "cell_type": "code",
   "execution_count": 49,
   "metadata": {},
   "outputs": [],
   "source": [
    "df_reviews.to_parquet('df_reviews.parquet')"
   ]
  }
 ],
 "metadata": {
  "kernelspec": {
   "display_name": "venv",
   "language": "python",
   "name": "python3"
  },
  "language_info": {
   "codemirror_mode": {
    "name": "ipython",
    "version": 3
   },
   "file_extension": ".py",
   "mimetype": "text/x-python",
   "name": "python",
   "nbconvert_exporter": "python",
   "pygments_lexer": "ipython3",
   "version": "3.12.1"
  }
 },
 "nbformat": 4,
 "nbformat_minor": 2
}
