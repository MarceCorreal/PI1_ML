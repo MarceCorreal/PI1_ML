{
 "cells": [
  {
   "cell_type": "code",
   "execution_count": null,
   "metadata": {},
   "outputs": [],
   "source": [
    "pip install pandas"
   ]
  },
  {
   "cell_type": "code",
   "execution_count": null,
   "metadata": {},
   "outputs": [],
   "source": [
    "pip install TextBlob"
   ]
  },
  {
   "cell_type": "code",
   "execution_count": 15,
   "metadata": {},
   "outputs": [],
   "source": [
    "# Bibliotecas\n",
    "\n",
    "import json\n",
    "import pandas as pd\n",
    "import gzip\n",
    "import ast\n",
    "from datetime import datetime\n",
    "import numpy as np\n",
    "import csv\n",
    "import time\n",
    "import string\n",
    "from textblob import TextBlob"
   ]
  },
  {
   "cell_type": "code",
   "execution_count": 16,
   "metadata": {},
   "outputs": [],
   "source": [
    " # Hago función para descomprimir el archivo en datos\n",
    " \n",
    " def abrir_archivo_comprimido(nombre_archivo=r\"C:\\Users\\Usuario\\Henry\\PI1_ML\\Modelo_Aprendizaje_Automático\\EDA_Datos_Modelo\\user_reviews.json.gz\"):  \n",
    "   try:\n",
    "      with gzip.open('user_reviews','rt', encoding='utf-8') as archivo_comprimido:\n",
    "         datos=  json.load(archivo_comprimido)\n",
    "                     \n",
    "      return dataframe\n",
    "       \n",
    "       # Añado un bloque try y except para manejar excepciones como FileNotFoundError y otros errores que puedan ocurrir al abrir el archivo.\n",
    "\n",
    "   except FileNotFoundError:\n",
    "        print(f\"El archivo '{user_reviews}' no se encontró.\")\n",
    "   except Exception   as e:\n",
    "        print(f\"Error al abrir el archivo comprimido: {str(e)}\") \n"
   ]
  },
  {
   "cell_type": "code",
   "execution_count": 17,
   "metadata": {},
   "outputs": [],
   "source": [
    "# Desarrollo función leer_Json_gzip() que lee los archivos 'comprimidos.json.gz` y devuelve una lista de diccionarios Python.\n",
    "def leer_json_gzip(user_reviews):\n",
    "\n",
    "    # Abrir el archivo users_items.json.gz en modo de lectura y decodificamos el contenido del archivo.\n",
    "    with gzip.open(user_reviews, 'rt', encoding='utf-8') as miArchivo:\n",
    "\n",
    "        # Recorremos el contenido del archivo y evaluamos cada línea como una expresión Python.\n",
    "        # El resultado de la evaluación es un diccionario Python.\n",
    "        # La función strip() elimina los espacios en blanco al principio y al final de la línea.\n",
    "        return [ast.literal_eval(line.strip()) for line in miArchivo]\n",
    "    #Usamos ast.literal_eval para convertir cada linea en un diccionario y lo agregamos a la lista"
   ]
  },
  {
   "cell_type": "markdown",
   "metadata": {},
   "source": [
    "ast.literal_eval es necesario porque los datos en el archivo parecen estar en formato JSON pero almacenados como cadenas en lugar de objetos de Python. literal_eval es más seguro que eval ya que solo evalúa expresiones literales de Python y evita la ejecución de código malicioso."
   ]
  },
  {
   "cell_type": "code",
   "execution_count": null,
   "metadata": {},
   "outputs": [],
   "source": [
    "#Como son cadenas debo recorrerlo para llenar el archivo\n",
    "\n",
    "datos = []\n",
    "for i  in gzip.open(r\"C:\\Users\\Usuario\\Henry\\PI1_ML\\DataSet-EDAs\\user_reviews.json.gz\"):\n",
    "    datos.append(ast.literal_eval(i.decode('utf-8')))\n",
    "\n",
    "df_user_reviews= pd.DataFrame(datos)\n",
    "\n",
    "df_user_reviews"
   ]
  },
  {
   "cell_type": "code",
   "execution_count": null,
   "metadata": {},
   "outputs": [],
   "source": [
    "df_user_reviews.head()"
   ]
  },
  {
   "cell_type": "code",
   "execution_count": 20,
   "metadata": {},
   "outputs": [],
   "source": [
    "# Dado que veo la columna reviews anidadada toca usar explode para desanidarla\n",
    "\n",
    "df_user_reviews_exploded = df_user_reviews.explode('reviews')\n"
   ]
  },
  {
   "cell_type": "code",
   "execution_count": null,
   "metadata": {},
   "outputs": [],
   "source": [
    "df_user_reviews_exploded.info()"
   ]
  },
  {
   "cell_type": "code",
   "execution_count": null,
   "metadata": {},
   "outputs": [],
   "source": [
    "df_user_reviews_exploded"
   ]
  },
  {
   "cell_type": "code",
   "execution_count": 23,
   "metadata": {},
   "outputs": [],
   "source": [
    "df_user_reviews_desanidado = pd.json_normalize(df_user_reviews_exploded['reviews'])"
   ]
  },
  {
   "cell_type": "code",
   "execution_count": null,
   "metadata": {},
   "outputs": [],
   "source": [
    "df_user_reviews_desanidado"
   ]
  },
  {
   "cell_type": "code",
   "execution_count": null,
   "metadata": {},
   "outputs": [],
   "source": [
    "df_user_reviews_desanidado.head()"
   ]
  },
  {
   "cell_type": "code",
   "execution_count": 26,
   "metadata": {},
   "outputs": [],
   "source": [
    "# solo voy a dejar review e item_id que necesito para el modelo y borro lo demás\n",
    "\n",
    "columnas_a_eliminar = ['funny', 'posted', 'last_edited', 'review', 'recommend']\n",
    "\n",
    "df_user_reviews_desanidado = df_user_reviews_desanidado.drop(columns=columnas_a_eliminar)\n"
   ]
  },
  {
   "cell_type": "code",
   "execution_count": null,
   "metadata": {},
   "outputs": [],
   "source": [
    "df_user_reviews_desanidado.head()"
   ]
  },
  {
   "cell_type": "code",
   "execution_count": 28,
   "metadata": {},
   "outputs": [],
   "source": [
    "# Guardo el dataframe limpio con análisis de sentimiento\n",
    "\n",
    "df_user_reviews_desanidado.to_parquet('df_user_reviews_helpul.parquet')\n"
   ]
  }
 ],
 "metadata": {
  "kernelspec": {
   "display_name": "Python 3",
   "language": "python",
   "name": "python3"
  },
  "language_info": {
   "codemirror_mode": {
    "name": "ipython",
    "version": 3
   },
   "file_extension": ".py",
   "mimetype": "text/x-python",
   "name": "python",
   "nbconvert_exporter": "python",
   "pygments_lexer": "ipython3",
   "version": "3.12.1"
  }
 },
 "nbformat": 4,
 "nbformat_minor": 2
}
