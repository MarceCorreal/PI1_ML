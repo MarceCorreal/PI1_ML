{
 "cells": [
  {
   "cell_type": "code",
   "execution_count": 2,
   "metadata": {},
   "outputs": [],
   "source": [
    "# Importaciones de bibliotecas necesarias\n",
    "import pandas as pd  # Pandas para manipulación de datos tabulares\n",
    "import json  # Módulo para trabajar con JSON\n",
    "import ast  # Módulo para evaluar expresiones literales de Python\n",
    "import re  # Módulo para trabajar con expresiones regulares\n",
    "from textblob import TextBlob # Importa la clase TextBlob desde la biblioteca TextBlob\n",
    "import nltk # Importa la biblioteca nltk (Natural Language Toolkit)\n",
    "import csv # Importa el módulo csv en Python\n",
    "\n",
    "# Importa el módulo de advertencias y configura para ignorar todas las advertencias\n",
    "import warnings\n",
    "warnings.filterwarnings(\"ignore\")"
   ]
  },
  {
   "cell_type": "code",
   "execution_count": null,
   "metadata": {},
   "outputs": [],
   "source": [
    "# Abro archivo user_items y lo renombro df_items para diferenciarlo de los APIs\n",
    "\n",
    "ruta_df_user_items = r\"C:\\Users\\Usuario\\Henry\\PI1_ML\\DataSet-EDAs\\df_users_items.parquet\"\n",
    "df_items = pd.read_parquet(ruta_df_user_items)\n",
    "df_items.head()"
   ]
  },
  {
   "cell_type": "code",
   "execution_count": null,
   "metadata": {},
   "outputs": [],
   "source": [
    "df_items.head()"
   ]
  },
  {
   "cell_type": "code",
   "execution_count": 4,
   "metadata": {},
   "outputs": [],
   "source": [
    "# Borro columna paytime_2weeks\n",
    "df_items = df_items.drop(columns=['playtime_2weeks'])"
   ]
  },
  {
   "cell_type": "code",
   "execution_count": 5,
   "metadata": {},
   "outputs": [
    {
     "data": {
      "text/plain": [
       "30383148"
      ]
     },
     "execution_count": 5,
     "metadata": {},
     "output_type": "execute_result"
    }
   ],
   "source": [
    "df_items.size"
   ]
  },
  {
   "cell_type": "code",
   "execution_count": null,
   "metadata": {},
   "outputs": [],
   "source": [
    "# Limpio na\n",
    "df_items.dropna()"
   ]
  },
  {
   "cell_type": "code",
   "execution_count": 7,
   "metadata": {},
   "outputs": [],
   "source": [
    "# Borro duplicados\n",
    "df_items = df_items.drop_duplicates()\n"
   ]
  },
  {
   "cell_type": "code",
   "execution_count": 8,
   "metadata": {},
   "outputs": [
    {
     "data": {
      "text/plain": [
       "30382980"
      ]
     },
     "execution_count": 8,
     "metadata": {},
     "output_type": "execute_result"
    }
   ],
   "source": [
    "df_items.size"
   ]
  },
  {
   "cell_type": "code",
   "execution_count": null,
   "metadata": {},
   "outputs": [],
   "source": [
    "''' Este conjunto de datos tiene 7 columnas y 5062823 registros. Para recordar, contiene la información\n",
    "relacionada los usuarios y los juegos que consumen como el tiempo acumulado (en minutos) que han \n",
    "jugado a un juego, la cantidad de items que consumen así como los identificadores de los juegos \n",
    "que consumen y del propio usuario y la url del perfil del mismo.'''\n"
   ]
  },
  {
   "cell_type": "code",
   "execution_count": null,
   "metadata": {},
   "outputs": [],
   "source": [
    "# Lo voy a dejar tal cual para calificar el modelo de recomendación"
   ]
  },
  {
   "cell_type": "code",
   "execution_count": 9,
   "metadata": {},
   "outputs": [],
   "source": [
    "df_items.to_parquet('df_items.parquet')"
   ]
  }
 ],
 "metadata": {
  "kernelspec": {
   "display_name": "venv",
   "language": "python",
   "name": "python3"
  },
  "language_info": {
   "codemirror_mode": {
    "name": "ipython",
    "version": 3
   },
   "file_extension": ".py",
   "mimetype": "text/x-python",
   "name": "python",
   "nbconvert_exporter": "python",
   "pygments_lexer": "ipython3",
   "version": "3.12.1"
  }
 },
 "nbformat": 4,
 "nbformat_minor": 2
}
