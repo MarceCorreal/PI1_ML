{
 "cells": [
  {
   "cell_type": "code",
   "execution_count": null,
   "metadata": {},
   "outputs": [],
   "source": [
    "pip install pyarrow\n"
   ]
  },
  {
   "cell_type": "code",
   "execution_count": null,
   "metadata": {},
   "outputs": [],
   "source": [
    "pip install fastparquet"
   ]
  },
  {
   "cell_type": "code",
   "execution_count": 37,
   "metadata": {},
   "outputs": [],
   "source": [
    "import json\n",
    "import pandas as pd\n",
    "import gzip\n",
    "import ast\n",
    "from datetime import datetime\n"
   ]
  },
  {
   "cell_type": "markdown",
   "metadata": {},
   "source": [
    "Consigna:\n",
    "def userforgenrer(genre : str ): Debe devolver el usuario que acumula mas mas jugadas para el genero dado y un listado de la acumulación de\n",
    "horas jugadas por año de lanzamiento"
   ]
  },
  {
   "cell_type": "code",
   "execution_count": null,
   "metadata": {},
   "outputs": [],
   "source": [
    "# Para este dataset necesito solo steam_games y user_items\n",
    "# primero dejo steam games con genres y release year y item name que es el conector para el merge\n",
    "# Y luego abro users_items y dejo user_id. item_id y playtime_forever"
   ]
  },
  {
   "cell_type": "code",
   "execution_count": 3,
   "metadata": {},
   "outputs": [
    {
     "data": {
      "text/plain": [
       "' Lectura de Archivos '"
      ]
     },
     "execution_count": 3,
     "metadata": {},
     "output_type": "execute_result"
    }
   ],
   "source": [
    "''' Lectura de Archivos '''\n",
    "# Solo steam_games"
   ]
  },
  {
   "cell_type": "code",
   "execution_count": null,
   "metadata": {},
   "outputs": [],
   "source": [
    "# Ubicación local archivo steam games \"C:\\Users\\Usuario\\Henry\\PI1_ML\\DataSet-EDAs\\df_steam_games.parquet\"\n",
    "df_steam_games = r\"C:\\Users\\Usuario\\Henry\\PI1_ML\\DataSet-EDAs\\df_steam_games.parquet\" \n",
    "df_steam_games = pd.read_parquet(df_steam_games )\n",
    "df_steam_games"
   ]
  },
  {
   "cell_type": "code",
   "execution_count": 3,
   "metadata": {},
   "outputs": [
    {
     "data": {
      "text/plain": [
       "' Alisto df_steam_games '"
      ]
     },
     "execution_count": 3,
     "metadata": {},
     "output_type": "execute_result"
    }
   ],
   "source": [
    "''' Alisto df_steam_games '''\n",
    "\n",
    "# Solo necesito steam Games [genres, item_name, release_year]"
   ]
  },
  {
   "cell_type": "code",
   "execution_count": null,
   "metadata": {},
   "outputs": [],
   "source": [
    "df_steam_games.info()"
   ]
  },
  {
   "cell_type": "code",
   "execution_count": null,
   "metadata": {},
   "outputs": [],
   "source": [
    "columnas_borrar_steam = ['publisher','url','release_date','reviews_url','specs', 'id', 'developer', 'price', 'early_access']\n",
    "dataset_endpoint_3 = df_steam_games.drop(columnas_borrar_steam, axis=1)\n",
    "dataset_endpoint_3"
   ]
  },
  {
   "cell_type": "code",
   "execution_count": 40,
   "metadata": {},
   "outputs": [],
   "source": [
    "# Cambio el nombre app_name por item_name para poder hacer el merge\n",
    "\n",
    "dataset_endpoint_3_nuevo = dataset_endpoint_3.rename(columns={'app_name': 'item_name'})"
   ]
  },
  {
   "cell_type": "code",
   "execution_count": 41,
   "metadata": {},
   "outputs": [],
   "source": [
    "dataset_endpoint_3 = dataset_endpoint_3_nuevo"
   ]
  },
  {
   "cell_type": "code",
   "execution_count": 43,
   "metadata": {},
   "outputs": [
    {
     "data": {
      "text/html": [
       "<div>\n",
       "<style scoped>\n",
       "    .dataframe tbody tr th:only-of-type {\n",
       "        vertical-align: middle;\n",
       "    }\n",
       "\n",
       "    .dataframe tbody tr th {\n",
       "        vertical-align: top;\n",
       "    }\n",
       "\n",
       "    .dataframe thead th {\n",
       "        text-align: right;\n",
       "    }\n",
       "</style>\n",
       "<table border=\"1\" class=\"dataframe\">\n",
       "  <thead>\n",
       "    <tr style=\"text-align: right;\">\n",
       "      <th></th>\n",
       "      <th>genres</th>\n",
       "      <th>item_name</th>\n",
       "      <th>release_year</th>\n",
       "    </tr>\n",
       "  </thead>\n",
       "  <tbody>\n",
       "    <tr>\n",
       "      <th>88310</th>\n",
       "      <td>Action</td>\n",
       "      <td>Lost Summoner Kitty</td>\n",
       "      <td>2018.0</td>\n",
       "    </tr>\n",
       "    <tr>\n",
       "      <th>88310</th>\n",
       "      <td>Casual</td>\n",
       "      <td>Lost Summoner Kitty</td>\n",
       "      <td>2018.0</td>\n",
       "    </tr>\n",
       "    <tr>\n",
       "      <th>88310</th>\n",
       "      <td>Indie</td>\n",
       "      <td>Lost Summoner Kitty</td>\n",
       "      <td>2018.0</td>\n",
       "    </tr>\n",
       "    <tr>\n",
       "      <th>88310</th>\n",
       "      <td>Simulation</td>\n",
       "      <td>Lost Summoner Kitty</td>\n",
       "      <td>2018.0</td>\n",
       "    </tr>\n",
       "    <tr>\n",
       "      <th>88310</th>\n",
       "      <td>Strategy</td>\n",
       "      <td>Lost Summoner Kitty</td>\n",
       "      <td>2018.0</td>\n",
       "    </tr>\n",
       "  </tbody>\n",
       "</table>\n",
       "</div>"
      ],
      "text/plain": [
       "           genres            item_name  release_year\n",
       "88310      Action  Lost Summoner Kitty        2018.0\n",
       "88310      Casual  Lost Summoner Kitty        2018.0\n",
       "88310       Indie  Lost Summoner Kitty        2018.0\n",
       "88310  Simulation  Lost Summoner Kitty        2018.0\n",
       "88310    Strategy  Lost Summoner Kitty        2018.0"
      ]
     },
     "execution_count": 43,
     "metadata": {},
     "output_type": "execute_result"
    }
   ],
   "source": [
    "dataset_endpoint_3.head()"
   ]
  },
  {
   "cell_type": "code",
   "execution_count": null,
   "metadata": {},
   "outputs": [],
   "source": [
    "# Ahora se necesita de users_items: user_id. item_id y playtime_forever\n",
    "\n",
    "# Ubicación local archivo users_items \"C:\\Users\\Usuario\\Henry\\PI1_ML\\DataSet-EDAs\\df_users_items.parquet\"\n",
    "df_users_items = r\"C:\\Users\\Usuario\\Henry\\PI1_ML\\DataSet-EDAs\\df_users_items.parquet\"\n",
    "df_users_items = pd.read_parquet(df_users_items )\n",
    "df_users_items"
   ]
  },
  {
   "cell_type": "code",
   "execution_count": null,
   "metadata": {},
   "outputs": [],
   "source": [
    "columnas_borrar2 = ['items_count',\t'user_url', 'playtime_2weeks']\n",
    "aux1 = df_users_items.drop(columns = columnas_borrar2)\n",
    "aux1"
   ]
  },
  {
   "cell_type": "code",
   "execution_count": 46,
   "metadata": {},
   "outputs": [],
   "source": [
    "# Merge basado en la columna 'item_id'\n",
    "\n",
    "dataset_endpoint_3_def = pd.merge(dataset_endpoint_3, aux1, on='item_name', how='inner')"
   ]
  },
  {
   "cell_type": "code",
   "execution_count": 47,
   "metadata": {},
   "outputs": [],
   "source": [
    "dataset_endpoint_3 = dataset_endpoint_3_def"
   ]
  },
  {
   "cell_type": "code",
   "execution_count": null,
   "metadata": {},
   "outputs": [],
   "source": [
    "dataset_endpoint_3"
   ]
  },
  {
   "cell_type": "code",
   "execution_count": 32,
   "metadata": {},
   "outputs": [],
   "source": [
    "# Borrar Duplicados\n",
    "dataset_endpoint_3 = dataset_endpoint_3.drop_duplicates()"
   ]
  },
  {
   "cell_type": "code",
   "execution_count": 33,
   "metadata": {},
   "outputs": [],
   "source": [
    "dataset_endpoint_3 = dataset_endpoint_3.dropna"
   ]
  },
  {
   "cell_type": "code",
   "execution_count": 49,
   "metadata": {},
   "outputs": [],
   "source": [
    "    \n",
    "# Guardo el dataset en la carpeta de la función \n",
    "\n",
    "dataset_endpoint_3.to_parquet('dataset_endpoint_3.parquet')\n"
   ]
  }
 ],
 "metadata": {
  "kernelspec": {
   "display_name": "Python 3",
   "language": "python",
   "name": "python3"
  },
  "language_info": {
   "codemirror_mode": {
    "name": "ipython",
    "version": 3
   },
   "file_extension": ".py",
   "mimetype": "text/x-python",
   "name": "python",
   "nbconvert_exporter": "python",
   "pygments_lexer": "ipython3",
   "version": "3.12.1"
  }
 },
 "nbformat": 4,
 "nbformat_minor": 2
}
