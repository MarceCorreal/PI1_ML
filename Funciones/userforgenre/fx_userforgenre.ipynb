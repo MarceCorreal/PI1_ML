{
 "cells": [
  {
   "cell_type": "code",
   "execution_count": null,
   "metadata": {},
   "outputs": [],
   "source": [
    "pip install fastapi"
   ]
  },
  {
   "cell_type": "code",
   "execution_count": 2,
   "metadata": {},
   "outputs": [],
   "source": [
    "# Importaciones de bibliotecas necesarias\n",
    "import pandas as pd  # Pandas para manipulación de datos tabulares\n",
    "import json  # Módulo para trabajar con JSON\n",
    "import ast  # Módulo para evaluar expresiones literales de Python\n",
    "import re  # Módulo para trabajar con expresiones regulares\n",
    "from textblob import TextBlob # Importa la clase TextBlob desde la biblioteca TextBlob\n",
    "import nltk # Importa la biblioteca nltk (Natural Language Toolkit)\n",
    "import csv # Importa el módulo csv en Python\n",
    "\n",
    "# Habilita la recarga automática de módulos antes de ejecutar una celda\n",
    "%load_ext autoreload\n",
    "%autoreload 2\n",
    "\n",
    "# Importa el módulo de advertencias y configura para ignorar todas las advertencias\n",
    "import warnings\n",
    "warnings.filterwarnings(\"ignore\")"
   ]
  },
  {
   "cell_type": "code",
   "execution_count": 2,
   "metadata": {},
   "outputs": [],
   "source": [
    "# Ruta al archivo parquet\n",
    "ruta_parquet = r\"C:\\Users\\Usuario\\Henry\\PI1_ML\\Funciones\\userforgenre\\dataset_endpoint_3.parquet\"\n",
    "\n",
    "# Leer el archivo CSV y convertirlo en un DataFrame\n",
    "df_endpoint_3= pd.read_parquet(ruta_parquet)"
   ]
  },
  {
   "cell_type": "code",
   "execution_count": null,
   "metadata": {},
   "outputs": [],
   "source": [
    "# Mostrar el DataFrame\n",
    "df_endpoint_3.head()"
   ]
  },
  {
   "cell_type": "code",
   "execution_count": 4,
   "metadata": {},
   "outputs": [],
   "source": [
    "def UserForGenre(genre: str, df):\n",
    "    # Convertir la columna 'release_anio' a tipo de dato entero\n",
    "    df['release_anio'] = pd.to_numeric(df['release_anio'], errors='coerce', downcast='integer')\n",
    "\n",
    "    # Filtrar el DataFrame por el género dado\n",
    "    genre_df = df[df['genres'] == genre]\n",
    "\n",
    "    # Convertir la columna 'playtime_forever' a minutos dividiendo por 60 y otra vez a hora diviendo por 60 y convertir a entero. Asumiendo que esta todo en segundos.\n",
    "    genre_df['playtime_forever'] = (genre_df['playtime_forever'] / 60 / 60).astype(int)\n",
    "\n",
    "    # Encontrar el usuario con más horas jugadas para el género dado\n",
    "    max_playtime_user = genre_df.loc[genre_df['playtime_forever'].idxmax(), 'user_id']\n",
    "\n",
    "    # Agrupar por año y sumar las horas jugadas\n",
    "    yearly_playtime = genre_df.groupby('release_anio')['playtime_forever'].sum().reset_index()\n",
    "\n",
    "    # Crear la lista de diccionarios para el retorno\n",
    "    playtime_list = [{'Año': int(year), 'Horas': int(hours)} for year, hours in zip(yearly_playtime['release_anio'], yearly_playtime['playtime_forever'])]\n",
    "\n",
    "    # Crear el diccionario de retorno\n",
    "    result = {\"Usuario con más horas jugadas para género \" + genre: max_playtime_user, \"Horas jugadas\": playtime_list}\n",
    "\n",
    "    return result"
   ]
  },
  {
   "cell_type": "code",
   "execution_count": null,
   "metadata": {},
   "outputs": [],
   "source": [
    "UserForGenre('Indie', df_endpoint_3)"
   ]
  }
 ],
 "metadata": {
  "kernelspec": {
   "display_name": "Python 3",
   "language": "python",
   "name": "python3"
  },
  "language_info": {
   "codemirror_mode": {
    "name": "ipython",
    "version": 3
   },
   "file_extension": ".py",
   "mimetype": "text/x-python",
   "name": "python",
   "nbconvert_exporter": "python",
   "pygments_lexer": "ipython3",
   "version": "3.12.1"
  }
 },
 "nbformat": 4,
 "nbformat_minor": 2
}
