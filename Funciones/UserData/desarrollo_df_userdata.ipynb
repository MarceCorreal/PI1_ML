{
 "cells": [
  {
   "cell_type": "markdown",
   "metadata": {},
   "source": [
    "Consigna:\n",
    "def userdata(User_id : str ): Debe devolver cantidad de dinero gastado por el usuario, el porcentaje de recomendación en base a reviews.recommend y cantidad de items.\n",
    "Ejemplo de retorno: {\"Usuario X\" : us213ndjss09sdf, \"Dinero gastado\": 200 USD, \"% de recomendación\": 20%, \"cantidad de items\": 5}"
   ]
  },
  {
   "cell_type": "code",
   "execution_count": 77,
   "metadata": {},
   "outputs": [],
   "source": [
    "import json\n",
    "import pandas as pd\n",
    "import gzip\n",
    "import ast\n",
    "from datetime import datetime\n",
    "import numpy as np"
   ]
  },
  {
   "cell_type": "code",
   "execution_count": null,
   "metadata": {},
   "outputs": [],
   "source": [
    "''' Lectura de Archivos '''\n",
    "# Se abren los 3 dataframes por que el data frame de la función necesita por lo menos un dato de cada uno\n",
    "\n",
    "df_steam_games = r\"C:\\Users\\Usuario\\Henry\\PI1_ML\\DataSet-EDAs\\df_steam_games.parquet\"\n",
    "df_steam_games = pd.read_parquet(df_steam_games )\n",
    "df_steam_games"
   ]
  },
  {
   "cell_type": "code",
   "execution_count": 111,
   "metadata": {},
   "outputs": [
    {
     "data": {
      "text/html": [
       "<div>\n",
       "<style scoped>\n",
       "    .dataframe tbody tr th:only-of-type {\n",
       "        vertical-align: middle;\n",
       "    }\n",
       "\n",
       "    .dataframe tbody tr th {\n",
       "        vertical-align: top;\n",
       "    }\n",
       "\n",
       "    .dataframe thead th {\n",
       "        text-align: right;\n",
       "    }\n",
       "</style>\n",
       "<table border=\"1\" class=\"dataframe\">\n",
       "  <thead>\n",
       "    <tr style=\"text-align: right;\">\n",
       "      <th></th>\n",
       "      <th>user_id</th>\n",
       "      <th>user_url</th>\n",
       "      <th>posted</th>\n",
       "      <th>item_id</th>\n",
       "      <th>recommend</th>\n",
       "      <th>sentiment_analysis</th>\n",
       "    </tr>\n",
       "  </thead>\n",
       "  <tbody>\n",
       "    <tr>\n",
       "      <th>0</th>\n",
       "      <td>76561197970982479</td>\n",
       "      <td>http://steamcommunity.com/profiles/76561197970...</td>\n",
       "      <td>Posted November 5, 2011.</td>\n",
       "      <td>1250</td>\n",
       "      <td>True</td>\n",
       "      <td>2</td>\n",
       "    </tr>\n",
       "    <tr>\n",
       "      <th>1</th>\n",
       "      <td>76561197970982479</td>\n",
       "      <td>http://steamcommunity.com/profiles/76561197970...</td>\n",
       "      <td>Posted July 15, 2011.</td>\n",
       "      <td>22200</td>\n",
       "      <td>True</td>\n",
       "      <td>2</td>\n",
       "    </tr>\n",
       "    <tr>\n",
       "      <th>2</th>\n",
       "      <td>76561197970982479</td>\n",
       "      <td>http://steamcommunity.com/profiles/76561197970...</td>\n",
       "      <td>Posted April 21, 2011.</td>\n",
       "      <td>43110</td>\n",
       "      <td>True</td>\n",
       "      <td>2</td>\n",
       "    </tr>\n",
       "    <tr>\n",
       "      <th>3</th>\n",
       "      <td>js41637</td>\n",
       "      <td>http://steamcommunity.com/id/js41637</td>\n",
       "      <td>Posted June 24, 2014.</td>\n",
       "      <td>251610</td>\n",
       "      <td>True</td>\n",
       "      <td>2</td>\n",
       "    </tr>\n",
       "    <tr>\n",
       "      <th>4</th>\n",
       "      <td>js41637</td>\n",
       "      <td>http://steamcommunity.com/id/js41637</td>\n",
       "      <td>Posted September 8, 2013.</td>\n",
       "      <td>227300</td>\n",
       "      <td>True</td>\n",
       "      <td>0</td>\n",
       "    </tr>\n",
       "    <tr>\n",
       "      <th>...</th>\n",
       "      <td>...</td>\n",
       "      <td>...</td>\n",
       "      <td>...</td>\n",
       "      <td>...</td>\n",
       "      <td>...</td>\n",
       "      <td>...</td>\n",
       "    </tr>\n",
       "    <tr>\n",
       "      <th>59328</th>\n",
       "      <td>76561198312638244</td>\n",
       "      <td>http://steamcommunity.com/profiles/76561198312...</td>\n",
       "      <td>Posted July 10.</td>\n",
       "      <td>70</td>\n",
       "      <td>True</td>\n",
       "      <td>2</td>\n",
       "    </tr>\n",
       "    <tr>\n",
       "      <th>59329</th>\n",
       "      <td>76561198312638244</td>\n",
       "      <td>http://steamcommunity.com/profiles/76561198312...</td>\n",
       "      <td>Posted July 8.</td>\n",
       "      <td>362890</td>\n",
       "      <td>True</td>\n",
       "      <td>2</td>\n",
       "    </tr>\n",
       "    <tr>\n",
       "      <th>59330</th>\n",
       "      <td>LydiaMorley</td>\n",
       "      <td>http://steamcommunity.com/id/LydiaMorley</td>\n",
       "      <td>Posted July 3.</td>\n",
       "      <td>273110</td>\n",
       "      <td>True</td>\n",
       "      <td>2</td>\n",
       "    </tr>\n",
       "    <tr>\n",
       "      <th>59331</th>\n",
       "      <td>LydiaMorley</td>\n",
       "      <td>http://steamcommunity.com/id/LydiaMorley</td>\n",
       "      <td>Posted July 20.</td>\n",
       "      <td>730</td>\n",
       "      <td>True</td>\n",
       "      <td>2</td>\n",
       "    </tr>\n",
       "    <tr>\n",
       "      <th>59332</th>\n",
       "      <td>LydiaMorley</td>\n",
       "      <td>http://steamcommunity.com/id/LydiaMorley</td>\n",
       "      <td>Posted July 2.</td>\n",
       "      <td>440</td>\n",
       "      <td>True</td>\n",
       "      <td>2</td>\n",
       "    </tr>\n",
       "  </tbody>\n",
       "</table>\n",
       "<p>59305 rows × 6 columns</p>\n",
       "</div>"
      ],
      "text/plain": [
       "                 user_id                                           user_url  \\\n",
       "0      76561197970982479  http://steamcommunity.com/profiles/76561197970...   \n",
       "1      76561197970982479  http://steamcommunity.com/profiles/76561197970...   \n",
       "2      76561197970982479  http://steamcommunity.com/profiles/76561197970...   \n",
       "3                js41637               http://steamcommunity.com/id/js41637   \n",
       "4                js41637               http://steamcommunity.com/id/js41637   \n",
       "...                  ...                                                ...   \n",
       "59328  76561198312638244  http://steamcommunity.com/profiles/76561198312...   \n",
       "59329  76561198312638244  http://steamcommunity.com/profiles/76561198312...   \n",
       "59330        LydiaMorley           http://steamcommunity.com/id/LydiaMorley   \n",
       "59331        LydiaMorley           http://steamcommunity.com/id/LydiaMorley   \n",
       "59332        LydiaMorley           http://steamcommunity.com/id/LydiaMorley   \n",
       "\n",
       "                          posted item_id  recommend  sentiment_analysis  \n",
       "0       Posted November 5, 2011.    1250       True                   2  \n",
       "1          Posted July 15, 2011.   22200       True                   2  \n",
       "2         Posted April 21, 2011.   43110       True                   2  \n",
       "3          Posted June 24, 2014.  251610       True                   2  \n",
       "4      Posted September 8, 2013.  227300       True                   0  \n",
       "...                          ...     ...        ...                 ...  \n",
       "59328            Posted July 10.      70       True                   2  \n",
       "59329             Posted July 8.  362890       True                   2  \n",
       "59330             Posted July 3.  273110       True                   2  \n",
       "59331            Posted July 20.     730       True                   2  \n",
       "59332             Posted July 2.     440       True                   2  \n",
       "\n",
       "[59305 rows x 6 columns]"
      ]
     },
     "execution_count": 111,
     "metadata": {},
     "output_type": "execute_result"
    }
   ],
   "source": [
    "df_user_reviews = r\"C:\\Users\\Usuario\\Henry\\PI1_ML\\DataSet-EDAs\\df_user_reviews.parquet\"\n",
    "df_user_reviews = pd.read_parquet(df_user_reviews)\n",
    "df_user_reviews"
   ]
  },
  {
   "cell_type": "code",
   "execution_count": 110,
   "metadata": {},
   "outputs": [
    {
     "data": {
      "text/html": [
       "<div>\n",
       "<style scoped>\n",
       "    .dataframe tbody tr th:only-of-type {\n",
       "        vertical-align: middle;\n",
       "    }\n",
       "\n",
       "    .dataframe tbody tr th {\n",
       "        vertical-align: top;\n",
       "    }\n",
       "\n",
       "    .dataframe thead th {\n",
       "        text-align: right;\n",
       "    }\n",
       "</style>\n",
       "<table border=\"1\" class=\"dataframe\">\n",
       "  <thead>\n",
       "    <tr style=\"text-align: right;\">\n",
       "      <th></th>\n",
       "      <th>user_id</th>\n",
       "      <th>items_count</th>\n",
       "      <th>user_url</th>\n",
       "      <th>item_id</th>\n",
       "      <th>item_name</th>\n",
       "      <th>playtime_forever</th>\n",
       "      <th>playtime_2weeks</th>\n",
       "    </tr>\n",
       "  </thead>\n",
       "  <tbody>\n",
       "    <tr>\n",
       "      <th>0</th>\n",
       "      <td>76561197970982479</td>\n",
       "      <td>277</td>\n",
       "      <td>http://steamcommunity.com/profiles/76561197970...</td>\n",
       "      <td>10</td>\n",
       "      <td>Counter-Strike</td>\n",
       "      <td>6.0</td>\n",
       "      <td>0.0</td>\n",
       "    </tr>\n",
       "    <tr>\n",
       "      <th>1</th>\n",
       "      <td>76561197970982479</td>\n",
       "      <td>277</td>\n",
       "      <td>http://steamcommunity.com/profiles/76561197970...</td>\n",
       "      <td>20</td>\n",
       "      <td>Team Fortress Classic</td>\n",
       "      <td>0.0</td>\n",
       "      <td>0.0</td>\n",
       "    </tr>\n",
       "    <tr>\n",
       "      <th>2</th>\n",
       "      <td>76561197970982479</td>\n",
       "      <td>277</td>\n",
       "      <td>http://steamcommunity.com/profiles/76561197970...</td>\n",
       "      <td>30</td>\n",
       "      <td>Day of Defeat</td>\n",
       "      <td>7.0</td>\n",
       "      <td>0.0</td>\n",
       "    </tr>\n",
       "    <tr>\n",
       "      <th>3</th>\n",
       "      <td>76561197970982479</td>\n",
       "      <td>277</td>\n",
       "      <td>http://steamcommunity.com/profiles/76561197970...</td>\n",
       "      <td>40</td>\n",
       "      <td>Deathmatch Classic</td>\n",
       "      <td>0.0</td>\n",
       "      <td>0.0</td>\n",
       "    </tr>\n",
       "    <tr>\n",
       "      <th>4</th>\n",
       "      <td>76561197970982479</td>\n",
       "      <td>277</td>\n",
       "      <td>http://steamcommunity.com/profiles/76561197970...</td>\n",
       "      <td>50</td>\n",
       "      <td>Half-Life: Opposing Force</td>\n",
       "      <td>0.0</td>\n",
       "      <td>0.0</td>\n",
       "    </tr>\n",
       "    <tr>\n",
       "      <th>...</th>\n",
       "      <td>...</td>\n",
       "      <td>...</td>\n",
       "      <td>...</td>\n",
       "      <td>...</td>\n",
       "      <td>...</td>\n",
       "      <td>...</td>\n",
       "      <td>...</td>\n",
       "    </tr>\n",
       "    <tr>\n",
       "      <th>5153204</th>\n",
       "      <td>76561198147832762</td>\n",
       "      <td>31</td>\n",
       "      <td>http://steamcommunity.com/profiles/76561198147...</td>\n",
       "      <td>346330</td>\n",
       "      <td>BrainBread 2</td>\n",
       "      <td>0.0</td>\n",
       "      <td>0.0</td>\n",
       "    </tr>\n",
       "    <tr>\n",
       "      <th>5153205</th>\n",
       "      <td>76561198147832762</td>\n",
       "      <td>31</td>\n",
       "      <td>http://steamcommunity.com/profiles/76561198147...</td>\n",
       "      <td>373330</td>\n",
       "      <td>All Is Dust</td>\n",
       "      <td>0.0</td>\n",
       "      <td>0.0</td>\n",
       "    </tr>\n",
       "    <tr>\n",
       "      <th>5153206</th>\n",
       "      <td>76561198147832762</td>\n",
       "      <td>31</td>\n",
       "      <td>http://steamcommunity.com/profiles/76561198147...</td>\n",
       "      <td>388490</td>\n",
       "      <td>One Way To Die: Steam Edition</td>\n",
       "      <td>3.0</td>\n",
       "      <td>3.0</td>\n",
       "    </tr>\n",
       "    <tr>\n",
       "      <th>5153207</th>\n",
       "      <td>SomeRandomNewAccount</td>\n",
       "      <td>8</td>\n",
       "      <td>http://steamcommunity.com/id/SomeRandomNewAccount</td>\n",
       "      <td>521570</td>\n",
       "      <td>You Have 10 Seconds 2</td>\n",
       "      <td>4.0</td>\n",
       "      <td>4.0</td>\n",
       "    </tr>\n",
       "    <tr>\n",
       "      <th>5153208</th>\n",
       "      <td>SomeRandomNewAccount</td>\n",
       "      <td>8</td>\n",
       "      <td>http://steamcommunity.com/id/SomeRandomNewAccount</td>\n",
       "      <td>519140</td>\n",
       "      <td>Minds Eyes</td>\n",
       "      <td>3.0</td>\n",
       "      <td>3.0</td>\n",
       "    </tr>\n",
       "  </tbody>\n",
       "</table>\n",
       "<p>5062823 rows × 7 columns</p>\n",
       "</div>"
      ],
      "text/plain": [
       "                      user_id  items_count  \\\n",
       "0           76561197970982479          277   \n",
       "1           76561197970982479          277   \n",
       "2           76561197970982479          277   \n",
       "3           76561197970982479          277   \n",
       "4           76561197970982479          277   \n",
       "...                       ...          ...   \n",
       "5153204     76561198147832762           31   \n",
       "5153205     76561198147832762           31   \n",
       "5153206     76561198147832762           31   \n",
       "5153207  SomeRandomNewAccount            8   \n",
       "5153208  SomeRandomNewAccount            8   \n",
       "\n",
       "                                                  user_url item_id  \\\n",
       "0        http://steamcommunity.com/profiles/76561197970...      10   \n",
       "1        http://steamcommunity.com/profiles/76561197970...      20   \n",
       "2        http://steamcommunity.com/profiles/76561197970...      30   \n",
       "3        http://steamcommunity.com/profiles/76561197970...      40   \n",
       "4        http://steamcommunity.com/profiles/76561197970...      50   \n",
       "...                                                    ...     ...   \n",
       "5153204  http://steamcommunity.com/profiles/76561198147...  346330   \n",
       "5153205  http://steamcommunity.com/profiles/76561198147...  373330   \n",
       "5153206  http://steamcommunity.com/profiles/76561198147...  388490   \n",
       "5153207  http://steamcommunity.com/id/SomeRandomNewAccount  521570   \n",
       "5153208  http://steamcommunity.com/id/SomeRandomNewAccount  519140   \n",
       "\n",
       "                             item_name  playtime_forever  playtime_2weeks  \n",
       "0                       Counter-Strike               6.0              0.0  \n",
       "1                Team Fortress Classic               0.0              0.0  \n",
       "2                        Day of Defeat               7.0              0.0  \n",
       "3                   Deathmatch Classic               0.0              0.0  \n",
       "4            Half-Life: Opposing Force               0.0              0.0  \n",
       "...                                ...               ...              ...  \n",
       "5153204                   BrainBread 2               0.0              0.0  \n",
       "5153205                    All Is Dust               0.0              0.0  \n",
       "5153206  One Way To Die: Steam Edition               3.0              3.0  \n",
       "5153207          You Have 10 Seconds 2               4.0              4.0  \n",
       "5153208                     Minds Eyes               3.0              3.0  \n",
       "\n",
       "[5062823 rows x 7 columns]"
      ]
     },
     "execution_count": 110,
     "metadata": {},
     "output_type": "execute_result"
    }
   ],
   "source": [
    "df_users_items = r\"C:\\Users\\Usuario\\Henry\\PI1_ML\\DataSet-EDAs\\df_users_items.parquet\"\n",
    "df_users_items = pd.read_parquet(df_users_items)\n",
    "df_users_items "
   ]
  },
  {
   "cell_type": "code",
   "execution_count": null,
   "metadata": {},
   "outputs": [],
   "source": [
    "# Inicio el dataframe de la función por user_items\n",
    "\n",
    "df_userdata = df_users_items\n",
    "df_userdata"
   ]
  },
  {
   "cell_type": "code",
   "execution_count": 85,
   "metadata": {},
   "outputs": [
    {
     "name": "stdout",
     "output_type": "stream",
     "text": [
      "<class 'pandas.core.frame.DataFrame'>\n",
      "Index: 5062823 entries, 0 to 5153208\n",
      "Data columns (total 7 columns):\n",
      " #   Column            Dtype  \n",
      "---  ------            -----  \n",
      " 0   user_id           object \n",
      " 1   items_count       int64  \n",
      " 2   user_url          object \n",
      " 3   item_id           object \n",
      " 4   item_name         object \n",
      " 5   playtime_forever  float64\n",
      " 6   playtime_2weeks   float64\n",
      "dtypes: float64(2), int64(1), object(4)\n",
      "memory usage: 309.0+ MB\n"
     ]
    }
   ],
   "source": [
    "df_userdata.info()\n"
   ]
  },
  {
   "cell_type": "code",
   "execution_count": 86,
   "metadata": {},
   "outputs": [],
   "source": [
    "# Cambio el tipo de laytime forever de float 63 a float 32 por espacio\n",
    "\n",
    "df_userdata['playtime_forever'] = df_userdata['playtime_forever'].astype('float32')"
   ]
  },
  {
   "cell_type": "code",
   "execution_count": null,
   "metadata": {},
   "outputs": [],
   "source": [
    "df_userdata.info()"
   ]
  },
  {
   "cell_type": "code",
   "execution_count": 88,
   "metadata": {},
   "outputs": [],
   "source": [
    "# De este df solo necesito user_id, item_id, 'items_count', item_name y play time_forever, así que\n",
    "\n",
    "columnas_borrar = [ 'user_url', 'playtime_2weeks'] \n",
    "\n",
    "df_userdata = df_userdata.drop(columnas_borrar,axis=1)"
   ]
  },
  {
   "cell_type": "code",
   "execution_count": null,
   "metadata": {},
   "outputs": [],
   "source": [
    "df_userdata.head()"
   ]
  },
  {
   "cell_type": "code",
   "execution_count": null,
   "metadata": {},
   "outputs": [],
   "source": [
    "# Reviso Stam_Games pues lo relacionare con el precio \n",
    "df_steam_games.head()"
   ]
  },
  {
   "cell_type": "code",
   "execution_count": null,
   "metadata": {},
   "outputs": [],
   "source": [
    "# De steam_games solo necesito item_id y price asi que borro las demás columnas\n",
    "# Item_id = app_name\n",
    "\n",
    "columnas_borrar2 = ['publisher', 'genres', 'url', 'release_date', 'reviews_url', 'specs', 'id', \"early_access\", 'developer', 'release_year'] \n",
    "\n",
    "df_steam_games = df_steam_games .drop(columnas_borrar2, axis=1)\n",
    "\n",
    "df_steam_games"
   ]
  },
  {
   "cell_type": "code",
   "execution_count": null,
   "metadata": {},
   "outputs": [],
   "source": [
    "df_steam_games.head()"
   ]
  },
  {
   "cell_type": "code",
   "execution_count": 92,
   "metadata": {},
   "outputs": [],
   "source": [
    "# Cambio nombre de columna app_name por \"item_name\" para que pueda hacer el match\n",
    "\n",
    "df_steam_games = df_steam_games.rename(columns={'app_name': 'item_name'})\n"
   ]
  },
  {
   "cell_type": "code",
   "execution_count": null,
   "metadata": {},
   "outputs": [],
   "source": [
    "# reviso la columna price de steam-games\n",
    "\n",
    "df_steam_games.info()"
   ]
  },
  {
   "cell_type": "code",
   "execution_count": 94,
   "metadata": {},
   "outputs": [],
   "source": [
    "# Modifico de una vez la columna price para que se pueda sumar luego\n",
    "\n",
    "df_steam_games['price'] = pd.to_numeric(df_steam_games['price'], errors='coerce')\n",
    "df_steam_games = df_steam_games.dropna(subset=['price'])"
   ]
  },
  {
   "cell_type": "code",
   "execution_count": null,
   "metadata": {},
   "outputs": [],
   "source": [
    "df_steam_games.info()"
   ]
  },
  {
   "cell_type": "code",
   "execution_count": 38,
   "metadata": {},
   "outputs": [],
   "source": []
  },
  {
   "cell_type": "code",
   "execution_count": null,
   "metadata": {},
   "outputs": [],
   "source": [
    "df_steam_games.info()"
   ]
  },
  {
   "cell_type": "code",
   "execution_count": 97,
   "metadata": {},
   "outputs": [],
   "source": [
    "# Como no me dejó convertir Convierto de float 64 a float 32 por temas de espacio, me toca  crear arreglo y convertirlo luego\n",
    "#así no me djejo:  df_steam_games['price'] .astype(np.float32)\n",
    "\n",
    "arreglo = df_steam_games['price'] .to_numpy() \n"
   ]
  },
  {
   "cell_type": "code",
   "execution_count": 98,
   "metadata": {},
   "outputs": [],
   "source": [
    "# converto el arreglo en float 32\n",
    "\n",
    "df_float32 = arreglo.astype('float32')"
   ]
  },
  {
   "cell_type": "code",
   "execution_count": null,
   "metadata": {},
   "outputs": [],
   "source": [
    "df_float32"
   ]
  },
  {
   "cell_type": "code",
   "execution_count": 100,
   "metadata": {},
   "outputs": [],
   "source": [
    "# Como ya tengo arreglo en float 32, vou a cambar la columna price por esta en steam_games\n",
    "\n",
    "df_steam_games['price'] = df_float32\n"
   ]
  },
  {
   "cell_type": "code",
   "execution_count": null,
   "metadata": {},
   "outputs": [],
   "source": [
    "df_steam_games.info()"
   ]
  },
  {
   "cell_type": "code",
   "execution_count": 102,
   "metadata": {},
   "outputs": [],
   "source": [
    "# Relaciono steam_games con userdata a travez de item_name para aumentar la coloumna  precio al dataframe\n",
    "\n",
    "df_userdata = pd.merge(df_userdata, df_steam_games[['item_name', 'price']], on='item_name', how='left')  \n"
   ]
  },
  {
   "cell_type": "code",
   "execution_count": null,
   "metadata": {},
   "outputs": [],
   "source": [
    "df_userdata.info()"
   ]
  },
  {
   "cell_type": "code",
   "execution_count": 107,
   "metadata": {},
   "outputs": [
    {
     "data": {
      "text/plain": [
       "(32746611, 6)"
      ]
     },
     "execution_count": 107,
     "metadata": {},
     "output_type": "execute_result"
    }
   ],
   "source": [
    "df_userdata.shape"
   ]
  },
  {
   "cell_type": "code",
   "execution_count": 244,
   "metadata": {},
   "outputs": [],
   "source": [
    "# retiro na y duplicados\n",
    "\n",
    "df_userdata = df_userdata.drop_duplicates()\n"
   ]
  },
  {
   "cell_type": "code",
   "execution_count": 245,
   "metadata": {},
   "outputs": [],
   "source": [
    "df_userdata = df_userdata.dropna"
   ]
  },
  {
   "cell_type": "code",
   "execution_count": 246,
   "metadata": {},
   "outputs": [
    {
     "ename": "AttributeError",
     "evalue": "'function' object has no attribute 'shape'",
     "output_type": "error",
     "traceback": [
      "\u001b[1;31m---------------------------------------------------------------------------\u001b[0m",
      "\u001b[1;31mAttributeError\u001b[0m                            Traceback (most recent call last)",
      "Cell \u001b[1;32mIn[246], line 1\u001b[0m\n\u001b[1;32m----> 1\u001b[0m \u001b[43mdf_userdata\u001b[49m\u001b[38;5;241;43m.\u001b[39;49m\u001b[43mshape\u001b[49m\n",
      "\u001b[1;31mAttributeError\u001b[0m: 'function' object has no attribute 'shape'"
     ]
    }
   ],
   "source": [
    "df_userdata.shape"
   ]
  },
  {
   "cell_type": "code",
   "execution_count": 221,
   "metadata": {},
   "outputs": [
    {
     "name": "stdout",
     "output_type": "stream",
     "text": [
      "<class 'pandas.core.frame.DataFrame'>\n",
      "Index: 3060168 entries, 0 to 43096383\n",
      "Data columns (total 5 columns):\n",
      " #   Column            Dtype  \n",
      "---  ------            -----  \n",
      " 0   user_id           object \n",
      " 1   item_id           object \n",
      " 2   item_name         object \n",
      " 3   playtime_forever  float64\n",
      " 4   price             string \n",
      "dtypes: float64(1), object(3), string(1)\n",
      "memory usage: 140.1+ MB\n"
     ]
    }
   ],
   "source": [
    "df_userdata2.info()"
   ]
  },
  {
   "cell_type": "code",
   "execution_count": null,
   "metadata": {},
   "outputs": [],
   "source": [
    "# Solo queda faltando la columna recommend de user reviews y hare la relación a travez de item_id}\n",
    "\n",
    "df_userdata = pd.merge(df_userdata, df_user_reviews, on='item_id', how='inner')\n",
    "df_userdata "
   ]
  }
 ],
 "metadata": {
  "kernelspec": {
   "display_name": "env",
   "language": "python",
   "name": "python3"
  },
  "language_info": {
   "codemirror_mode": {
    "name": "ipython",
    "version": 3
   },
   "file_extension": ".py",
   "mimetype": "text/x-python",
   "name": "python",
   "nbconvert_exporter": "python",
   "pygments_lexer": "ipython3",
   "version": "3.12.1"
  }
 },
 "nbformat": 4,
 "nbformat_minor": 2
}
