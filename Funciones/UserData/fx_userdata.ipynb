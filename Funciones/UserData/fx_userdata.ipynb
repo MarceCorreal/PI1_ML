{
 "cells": [
  {
   "cell_type": "code",
   "execution_count": 10,
   "metadata": {},
   "outputs": [],
   "source": [
    "from fastapi import FastAPI"
   ]
  },
  {
   "cell_type": "code",
   "execution_count": 11,
   "metadata": {},
   "outputs": [],
   "source": [
    "from fastapi import FastAPI"
   ]
  },
  {
   "cell_type": "code",
   "execution_count": 12,
   "metadata": {},
   "outputs": [],
   "source": [
    "import json\n",
    "import pandas as pd\n",
    "import gzip\n",
    "import ast\n",
    "from datetime import datetime\n",
    "import pyarrow.parquet as pq"
   ]
  },
  {
   "cell_type": "code",
   "execution_count": null,
   "metadata": {},
   "outputs": [],
   "source": [
    "# Se hace la función para probar antes de incluirla en el api. ejemplo user_id = 76561197970982479"
   ]
  },
  {
   "cell_type": "code",
   "execution_count": 13,
   "metadata": {},
   "outputs": [],
   "source": [
    "# Leeer archivo df de la función\n",
    "\n",
    "df_userdata = pd.read_parquet(r\"C:\\Users\\Usuario\\Henry\\PI1_ML\\Funciones\\UserData\\df_userdata.parquet\")\n"
   ]
  },
  {
   "cell_type": "code",
   "execution_count": 14,
   "metadata": {},
   "outputs": [
    {
     "data": {
      "text/plain": [
       "1014792"
      ]
     },
     "execution_count": 14,
     "metadata": {},
     "output_type": "execute_result"
    }
   ],
   "source": [
    "df_userdata.size"
   ]
  },
  {
   "cell_type": "code",
   "execution_count": null,
   "metadata": {},
   "outputs": [],
   "source": [
    "df_userdata.info()"
   ]
  },
  {
   "cell_type": "code",
   "execution_count": 16,
   "metadata": {},
   "outputs": [],
   "source": [
    "def userdata(df_userdata, user_id):\n",
    "    # Filtrar el DataFrame para obtener la información del usuario\n",
    "    df_userdata_usuario = df_userdata[df_userdata['user_id'] == user_id]\n",
    "\n",
    "    if df_userdata_usuario.empty:\n",
    "        return f\"El usuario {user_id} no existe en el DataFrame.\"\n",
    "\n",
    "    # Obtener la primera fila\n",
    "    \n",
    "    dinero_gastado = df_userdata_usuario['cantidad total gastado'].iloc[0]\n",
    "    porcentaje_recomendacion = float(df_userdata_usuario['percentage_true'].iloc[0].rstrip('%'))\n",
    "    cantidad_items = df_userdata_usuario['item_id'].nunique()\n",
    "\n",
    "    # Crear el diccionario de retorno\n",
    "    \n",
    "    resultado = {\n",
    "        \"Usuario\": user_id,\n",
    "        \"Dinero gastado\": f\"${dinero_gastado:.2f} USD\",\n",
    "        \"porcentaje de recomendación\": f\"{porcentaje_recomendacion:.2f}%\",\n",
    "        \"Cantidad de items\": cantidad_items\n",
    "    }\n",
    "\n",
    "    return resultado"
   ]
  },
  {
   "cell_type": "code",
   "execution_count": 17,
   "metadata": {},
   "outputs": [
    {
     "data": {
      "text/plain": [
       "{'Usuario': '76561197970982479',\n",
       " 'Dinero gastado': '$5537.23 USD',\n",
       " 'porcentaje de recomendación': '100.00%',\n",
       " 'Cantidad de items': 13}"
      ]
     },
     "execution_count": 17,
     "metadata": {},
     "output_type": "execute_result"
    }
   ],
   "source": [
    "userdata(df_userdata, '76561197970982479')\n"
   ]
  }
 ],
 "metadata": {
  "kernelspec": {
   "display_name": "Python 3",
   "language": "python",
   "name": "python3"
  },
  "language_info": {
   "codemirror_mode": {
    "name": "ipython",
    "version": 3
   },
   "file_extension": ".py",
   "mimetype": "text/x-python",
   "name": "python",
   "nbconvert_exporter": "python",
   "pygments_lexer": "ipython3",
   "version": "3.12.1"
  }
 },
 "nbformat": 4,
 "nbformat_minor": 2
}
