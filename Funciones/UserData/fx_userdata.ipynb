{
 "cells": [
  {
   "cell_type": "code",
   "execution_count": 1,
   "metadata": {},
   "outputs": [],
   "source": [
    "import json\n",
    "import pandas as pd\n",
    "import gzip\n",
    "import ast\n",
    "from datetime import datetime\n",
    "import pyarrow.parquet as pq"
   ]
  },
  {
   "cell_type": "code",
   "execution_count": 2,
   "metadata": {},
   "outputs": [],
   "source": [
    "# Leeer archivo df de la función\n",
    "\n",
    "df_userdata = pd.read_parquet(r\"C:\\Users\\Usuario\\Henry\\PI1_ML\\Funciones\\UserData\\df_userdata.parquet\")\n"
   ]
  },
  {
   "cell_type": "code",
   "execution_count": null,
   "metadata": {},
   "outputs": [],
   "source": [
    "df_userdata.head()"
   ]
  },
  {
   "cell_type": "code",
   "execution_count": 4,
   "metadata": {},
   "outputs": [
    {
     "data": {
      "text/plain": [
       "15426224"
      ]
     },
     "execution_count": 4,
     "metadata": {},
     "output_type": "execute_result"
    }
   ],
   "source": [
    "df_userdata.size"
   ]
  },
  {
   "cell_type": "code",
   "execution_count": null,
   "metadata": {},
   "outputs": [],
   "source": [
    "df_userdata.head()"
   ]
  },
  {
   "cell_type": "code",
   "execution_count": null,
   "metadata": {},
   "outputs": [],
   "source": [
    "df_userdata.info()"
   ]
  },
  {
   "cell_type": "code",
   "execution_count": 9,
   "metadata": {},
   "outputs": [],
   "source": [
    "df_userdata['porcentaje_recomendado'] = df_userdata['porcentaje_recomendado'].astype(str)"
   ]
  },
  {
   "cell_type": "code",
   "execution_count": null,
   "metadata": {},
   "outputs": [],
   "source": [
    "df_userdata.info()"
   ]
  },
  {
   "cell_type": "code",
   "execution_count": 15,
   "metadata": {},
   "outputs": [],
   "source": [
    "def userdata(df_userdata, user_id):\n",
    "    # Filtrar el DataFrame para obtener la información del usuario\n",
    "    df_userdata_usuario = df_userdata[df_userdata['user_id'] == '76561197970982479']\n",
    "\n",
    "    if df_userdata_usuario .empty:\n",
    "        return f\"El usuario {user_id} no existe en el DataFrame.\"\n",
    "\n",
    "    # Obtener el primer valor de la Serie (ya que debería haber solo un usuario)\n",
    "    dinero_gastado = df_userdata_usuario['costo'].iloc[0]\n",
    "    porcentaje_recomendacion = float(df_userdata_usuario['porcentaje_recomendado'].iloc[0].rstrip('%'))\n",
    "    cantidad_items = df_userdata_usuario['item_id'].nunique()\n",
    "\n",
    "    # Crear el diccionario de retorno\n",
    "    resultado = {\n",
    "        \"Usuario\": user_id,\n",
    "        \"Dinero gastado\": f\"${dinero_gastado:.2f} USD\",\n",
    "        \"% de recomendación\": f\"{porcentaje_recomendacion:.2f}%\",\n",
    "        \"Cantidad de items\": cantidad_items\n",
    "    }\n",
    "\n",
    "    return resultado\n"
   ]
  },
  {
   "cell_type": "code",
   "execution_count": 16,
   "metadata": {},
   "outputs": [
    {
     "data": {
      "text/plain": [
       "{'Usuario': '76561197970982479',\n",
       " 'Dinero gastado': '$59.94 USD',\n",
       " '% de recomendación': '50.00%',\n",
       " 'Cantidad de items': 161}"
      ]
     },
     "execution_count": 16,
     "metadata": {},
     "output_type": "execute_result"
    }
   ],
   "source": [
    "userdata(df_userdata,'76561197970982479')"
   ]
  }
 ],
 "metadata": {
  "kernelspec": {
   "display_name": "Python 3",
   "language": "python",
   "name": "python3"
  },
  "language_info": {
   "codemirror_mode": {
    "name": "ipython",
    "version": 3
   },
   "file_extension": ".py",
   "mimetype": "text/x-python",
   "name": "python",
   "nbconvert_exporter": "python",
   "pygments_lexer": "ipython3",
   "version": "3.12.1"
  }
 },
 "nbformat": 4,
 "nbformat_minor": 2
}
