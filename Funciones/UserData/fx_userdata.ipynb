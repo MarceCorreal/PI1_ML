{
 "cells": [
  {
   "cell_type": "code",
   "execution_count": 83,
   "metadata": {},
   "outputs": [],
   "source": [
    "import json\n",
    "import pandas as pd\n",
    "import gzip\n",
    "import ast\n",
    "from datetime import datetime\n",
    "import pyarrow.parquet as pq"
   ]
  },
  {
   "cell_type": "code",
   "execution_count": 84,
   "metadata": {},
   "outputs": [],
   "source": [
    "# Leeer archivo df de la función\n",
    "\n",
    "df_userdata = pd.read_parquet(r\"C:\\Users\\Usuario\\Henry\\PI1_ML\\Funciones\\UserData\\df_userdata.parquet\")\n"
   ]
  },
  {
   "cell_type": "code",
   "execution_count": null,
   "metadata": {},
   "outputs": [],
   "source": [
    "df_userdata.head()"
   ]
  },
  {
   "cell_type": "code",
   "execution_count": 86,
   "metadata": {},
   "outputs": [
    {
     "data": {
      "text/plain": [
       "15426224"
      ]
     },
     "execution_count": 86,
     "metadata": {},
     "output_type": "execute_result"
    }
   ],
   "source": [
    "df_userdata.size"
   ]
  },
  {
   "cell_type": "code",
   "execution_count": 87,
   "metadata": {},
   "outputs": [
    {
     "data": {
      "text/html": [
       "<div>\n",
       "<style scoped>\n",
       "    .dataframe tbody tr th:only-of-type {\n",
       "        vertical-align: middle;\n",
       "    }\n",
       "\n",
       "    .dataframe tbody tr th {\n",
       "        vertical-align: top;\n",
       "    }\n",
       "\n",
       "    .dataframe thead th {\n",
       "        text-align: right;\n",
       "    }\n",
       "</style>\n",
       "<table border=\"1\" class=\"dataframe\">\n",
       "  <thead>\n",
       "    <tr style=\"text-align: right;\">\n",
       "      <th></th>\n",
       "      <th>user_id</th>\n",
       "      <th>item_id</th>\n",
       "      <th>cantidad total gastado</th>\n",
       "      <th>percentage_true</th>\n",
       "    </tr>\n",
       "  </thead>\n",
       "  <tbody>\n",
       "    <tr>\n",
       "      <th>0</th>\n",
       "      <td>76561197970982479</td>\n",
       "      <td>10</td>\n",
       "      <td>59.939999</td>\n",
       "      <td>50.0</td>\n",
       "    </tr>\n",
       "    <tr>\n",
       "      <th>1</th>\n",
       "      <td>76561197970982479</td>\n",
       "      <td>10</td>\n",
       "      <td>59.939999</td>\n",
       "      <td>50.0</td>\n",
       "    </tr>\n",
       "    <tr>\n",
       "      <th>2</th>\n",
       "      <td>76561197970982479</td>\n",
       "      <td>20</td>\n",
       "      <td>0.000000</td>\n",
       "      <td>50.0</td>\n",
       "    </tr>\n",
       "    <tr>\n",
       "      <th>3</th>\n",
       "      <td>76561197970982479</td>\n",
       "      <td>20</td>\n",
       "      <td>0.000000</td>\n",
       "      <td>50.0</td>\n",
       "    </tr>\n",
       "    <tr>\n",
       "      <th>4</th>\n",
       "      <td>76561197970982479</td>\n",
       "      <td>30</td>\n",
       "      <td>34.930000</td>\n",
       "      <td>50.0</td>\n",
       "    </tr>\n",
       "  </tbody>\n",
       "</table>\n",
       "</div>"
      ],
      "text/plain": [
       "             user_id item_id  cantidad total gastado  percentage_true\n",
       "0  76561197970982479      10               59.939999             50.0\n",
       "1  76561197970982479      10               59.939999             50.0\n",
       "2  76561197970982479      20                0.000000             50.0\n",
       "3  76561197970982479      20                0.000000             50.0\n",
       "4  76561197970982479      30               34.930000             50.0"
      ]
     },
     "execution_count": 87,
     "metadata": {},
     "output_type": "execute_result"
    }
   ],
   "source": [
    "df_userdata.head()"
   ]
  },
  {
   "cell_type": "code",
   "execution_count": 97,
   "metadata": {},
   "outputs": [
    {
     "name": "stdout",
     "output_type": "stream",
     "text": [
      "<class 'pandas.core.frame.DataFrame'>\n",
      "RangeIndex: 3856556 entries, 0 to 3856555\n",
      "Data columns (total 4 columns):\n",
      " #   Column                  Dtype  \n",
      "---  ------                  -----  \n",
      " 0   user_id                 object \n",
      " 1   item_id                 object \n",
      " 2   cantidad total gastado  float32\n",
      " 3   percentage_true         float64\n",
      "dtypes: float32(1), float64(1), object(2)\n",
      "memory usage: 103.0+ MB\n"
     ]
    }
   ],
   "source": [
    "df_userdata.info()"
   ]
  },
  {
   "cell_type": "code",
   "execution_count": 100,
   "metadata": {},
   "outputs": [],
   "source": [
    "df_userdata['percentage_true'] = df_userdata['percentage_true'].astype(str)"
   ]
  },
  {
   "cell_type": "code",
   "execution_count": null,
   "metadata": {},
   "outputs": [],
   "source": [
    "df_userdata.info()"
   ]
  },
  {
   "cell_type": "code",
   "execution_count": 103,
   "metadata": {},
   "outputs": [],
   "source": [
    "def userdata(df_userdata, user_id):\n",
    "    # Filtrar el DataFrame para obtener la información del usuario\n",
    "    df_userdata_usuario = df_userdata[df_userdata['user_id'] == user_id]\n",
    "\n",
    "    if usuario.empty:\n",
    "        return f\"El usuario {user_id} no existe en el DataFrame.\"\n",
    "\n",
    "    # Obtener el primer valor de la Serie (ya que debería haber solo un usuario)\n",
    "    dinero_gastado = df_userdata_usuario['cantidad total gastado'].iloc[0]\n",
    "    porcentaje_recomendacion = float(df_userdata_usuario['percentage_true'].iloc[0].rstrip('%'))\n",
    "    cantidad_items = df_userdata_usuario['item_id'].nunique()\n",
    "\n",
    "    # Crear el diccionario de retorno\n",
    "    resultado = {\n",
    "        \"Usuario\": user_id,\n",
    "        \"Dinero gastado\": f\"${dinero_gastado:.2f} USD\",\n",
    "        \"% de recomendación\": f\"{porcentaje_recomendacion:.2f}%\",\n",
    "        \"Cantidad de items\": cantidad_items\n",
    "    }\n",
    "\n",
    "    return resultado\n"
   ]
  },
  {
   "cell_type": "code",
   "execution_count": 106,
   "metadata": {},
   "outputs": [
    {
     "data": {
      "text/plain": [
       "{'Usuario': '76561197970982479',\n",
       " 'Dinero gastado': '$59.94 USD',\n",
       " '% de recomendación': '50.00%',\n",
       " 'Cantidad de items': 161}"
      ]
     },
     "execution_count": 106,
     "metadata": {},
     "output_type": "execute_result"
    }
   ],
   "source": [
    "userdata(df_userdata,'76561197970982479')"
   ]
  }
 ],
 "metadata": {
  "kernelspec": {
   "display_name": "Python 3",
   "language": "python",
   "name": "python3"
  },
  "language_info": {
   "codemirror_mode": {
    "name": "ipython",
    "version": 3
   },
   "file_extension": ".py",
   "mimetype": "text/x-python",
   "name": "python",
   "nbconvert_exporter": "python",
   "pygments_lexer": "ipython3",
   "version": "3.12.1"
  }
 },
 "nbformat": 4,
 "nbformat_minor": 2
}
