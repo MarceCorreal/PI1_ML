{
 "cells": [
  {
   "cell_type": "code",
   "execution_count": 17,
   "metadata": {},
   "outputs": [
    {
     "name": "stdout",
     "output_type": "stream",
     "text": [
      "The autoreload extension is already loaded. To reload it, use:\n",
      "  %reload_ext autoreload\n"
     ]
    }
   ],
   "source": [
    "# Importaciones de bibliotecas necesarias\n",
    "import pandas as pd  # Pandas para manipulación de datos tabulares\n",
    "import json  # Módulo para trabajar con JSON\n",
    "import ast  # Módulo para evaluar expresiones literales de Python\n",
    "import re  # Módulo para trabajar con expresiones regulares\n",
    "from textblob import TextBlob # Importa la clase TextBlob desde la biblioteca TextBlob\n",
    "import nltk # Importa la biblioteca nltk (Natural Language Toolkit)\n",
    "import csv # Importa el módulo csv en Python\n",
    "\n",
    "# Habilita la recarga automática de módulos antes de ejecutar una celda\n",
    "%load_ext autoreload\n",
    "%autoreload 2\n",
    "\n",
    "# Importa el módulo de advertencias y configura para ignorar todas las advertencias\n",
    "import warnings\n",
    "warnings.filterwarnings(\"ignore\")"
   ]
  },
  {
   "cell_type": "code",
   "execution_count": 18,
   "metadata": {},
   "outputs": [],
   "source": [
    "# Ruta al archivo parquet\n",
    "ruta_parquet = r\"C:\\Users\\Usuario\\Henry\\PI1_ML\\Funciones\\userdata\\dataset_endpoint_2.parquet\""
   ]
  },
  {
   "cell_type": "code",
   "execution_count": 19,
   "metadata": {},
   "outputs": [],
   "source": [
    "df_endpoint_2 = pd.read_parquet(ruta_parquet)"
   ]
  },
  {
   "cell_type": "code",
   "execution_count": null,
   "metadata": {},
   "outputs": [],
   "source": [
    "df_endpoint_2.head()"
   ]
  },
  {
   "cell_type": "code",
   "execution_count": 15,
   "metadata": {},
   "outputs": [],
   "source": [
    "def userdata(df, user_id):\n",
    "    # Filtrar el DataFrame para obtener la información del usuario\n",
    "    usuario = df[df['user_id'] == user_id]\n",
    "\n",
    "    if usuario.empty:\n",
    "        return f\"El usuario {user_id} no existe en el DataFrame.\"\n",
    "\n",
    "    # Obtener el primer valor de la Serie (ya que debería haber solo un usuario)\n",
    "    dinero_gastado = usuario['cantidad total gastado'].iloc[0]\n",
    "    porcentaje_recomendacion = float(usuario['percentage_true'].iloc[0].rstrip('%'))\n",
    "    cantidad_items = usuario['item_id'].nunique()\n",
    "\n",
    "    # Crear el diccionario de retorno\n",
    "    resultado = {\n",
    "        \"Usuario\": user_id,\n",
    "        \"Dinero gastado\": f\"${dinero_gastado:.2f} USD\",\n",
    "        \"% de recomendación\": f\"{porcentaje_recomendacion:.2f}%\",\n",
    "        \"Cantidad de items\": cantidad_items\n",
    "    }\n",
    "\n",
    "    return resultado"
   ]
  },
  {
   "cell_type": "code",
   "execution_count": 21,
   "metadata": {},
   "outputs": [
    {
     "data": {
      "text/plain": [
       "{'Usuario': 'GamekungX',\n",
       " 'Dinero gastado': '$2099.16 USD',\n",
       " '% de recomendación': '100.00%',\n",
       " 'Cantidad de items': 2}"
      ]
     },
     "execution_count": 21,
     "metadata": {},
     "output_type": "execute_result"
    }
   ],
   "source": [
    "userdata(df_endpoint_2,'GamekungX')"
   ]
  }
 ],
 "metadata": {
  "kernelspec": {
   "display_name": "Python 3",
   "language": "python",
   "name": "python3"
  },
  "language_info": {
   "codemirror_mode": {
    "name": "ipython",
    "version": 3
   },
   "file_extension": ".py",
   "mimetype": "text/x-python",
   "name": "python",
   "nbconvert_exporter": "python",
   "pygments_lexer": "ipython3",
   "version": "3.12.1"
  }
 },
 "nbformat": 4,
 "nbformat_minor": 2
}
