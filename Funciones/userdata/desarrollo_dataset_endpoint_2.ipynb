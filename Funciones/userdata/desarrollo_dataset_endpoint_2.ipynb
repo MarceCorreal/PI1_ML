{
 "cells": [
  {
   "cell_type": "code",
   "execution_count": null,
   "metadata": {},
   "outputs": [],
   "source": [
    "pip install pyarrow\n"
   ]
  },
  {
   "cell_type": "code",
   "execution_count": null,
   "metadata": {},
   "outputs": [],
   "source": [
    "pip install fastparquet"
   ]
  },
  {
   "cell_type": "code",
   "execution_count": 1,
   "metadata": {},
   "outputs": [],
   "source": [
    "import json\n",
    "import pandas as pd\n",
    "import gzip\n",
    "import ast\n",
    "from datetime import datetime\n"
   ]
  },
  {
   "cell_type": "markdown",
   "metadata": {},
   "source": [
    "Consigna: def userdata(User_id : str ): Debe devolver cantidad de dinero gastado por el usuario, el porcentaje de recomendación en base a reviews.recommend y cantidad de items. Ejemplo de retorno: {\"Usuario X\" : us213ndjss09sdf, \"Dinero gastado\": 200 USD, \"% de recomendación\": 20%, \"cantidad de items\": 5}"
   ]
  },
  {
   "cell_type": "code",
   "execution_count": null,
   "metadata": {},
   "outputs": [],
   "source": [
    "''' Lectura de Archivos '''\n",
    "# Se abren los 3 dataframes por que el data frame de la función necesita por lo menos un dato de cada uno\n",
    "\n",
    "df_steam_games = r\"C:\\Users\\Usuario\\Henry\\PI1_ML\\DataSet-EDAs\\df_steam_games.parquet\"\n",
    "df_steam_games = pd.read_parquet(df_steam_games )\n",
    "df_steam_games"
   ]
  },
  {
   "cell_type": "code",
   "execution_count": null,
   "metadata": {},
   "outputs": [],
   "source": [
    "# Ubicación local archivo steam games https://github.com/MarceCorreal/PI1_MachineLearning/blob/main/Funciones/Developer/df_developer.parquet\n",
    "df_user_reviews = r\"C:\\Users\\Usuario\\Henry\\PI1_ML\\DataSet-EDAs\\df_user_reviews.parquet\"\n",
    "df_user_reviews = pd.read_parquet(df_user_reviews)\n",
    "df_user_reviews"
   ]
  },
  {
   "cell_type": "code",
   "execution_count": null,
   "metadata": {},
   "outputs": [],
   "source": [
    "df_users_items = r\"C:\\Users\\Usuario\\Henry\\PI1_ML\\DataSet-EDAs\\df_users_items.parquet\"\n",
    "df_users_items = pd.read_parquet(df_users_items)\n",
    "df_users_items"
   ]
  },
  {
   "cell_type": "code",
   "execution_count": null,
   "metadata": {},
   "outputs": [],
   "source": [
    "# Inicio el dataframe de la función por user_items\n",
    "\n",
    "df_userdata.info()\n",
    "# convierto user_id a str para entrar a la función  "
   ]
  },
  {
   "cell_type": "code",
   "execution_count": null,
   "metadata": {},
   "outputs": [],
   "source": [
    "# como no me convierte a stn borrare valores nulos\n",
    "\n",
    "df_userdata['user_id'] = df_userdata['user_id'].fillna('').astype(str)"
   ]
  },
  {
   "cell_type": "code",
   "execution_count": 7,
   "metadata": {},
   "outputs": [
    {
     "data": {
      "text/plain": [
       "(221161, 5)"
      ]
     },
     "execution_count": 7,
     "metadata": {},
     "output_type": "execute_result"
    }
   ],
   "source": [
    "df_userdata.info()"
   ]
  },
  {
   "cell_type": "code",
   "execution_count": null,
   "metadata": {},
   "outputs": [],
   "source": [
    "df_userdata['user_id'] = df_userdata['user_id'].astype(str, errors='ignore')"
   ]
  },
  {
   "cell_type": "code",
   "execution_count": null,
   "metadata": {},
   "outputs": [],
   "source": [
    "# Verificar tipos de datos en la columna\n",
    "df_userdata['user_id'].apply(type)"
   ]
  },
  {
   "cell_type": "code",
   "execution_count": 10,
   "metadata": {},
   "outputs": [
    {
     "data": {
      "text/plain": [
       "(221161, 5)"
      ]
     },
     "execution_count": 10,
     "metadata": {},
     "output_type": "execute_result"
    }
   ],
   "source": [
    "# reviso si todo se puede pasar a str y si no lo borro\n",
    "\n",
    "df_userdata = df_userdata[pd.to_numeric(df_userdata['user_id'], errors='coerce').notna() | df_userdata['user_id'].apply(lambda x: isinstance(x, str))]"
   ]
  },
  {
   "cell_type": "code",
   "execution_count": 11,
   "metadata": {},
   "outputs": [
    {
     "data": {
      "text/plain": [
       "(221161, 5)"
      ]
     },
     "execution_count": 11,
     "metadata": {},
     "output_type": "execute_result"
    }
   ],
   "source": [
    "df_userdata['user_id'] = df_userdata['user_id'].astype(str)"
   ]
  },
  {
   "cell_type": "code",
   "execution_count": 12,
   "metadata": {},
   "outputs": [],
   "source": [
    "# Borrar Duplicados\n",
    "df_developer = df_developer.drop_duplicates()"
   ]
  },
  {
   "cell_type": "code",
   "execution_count": 13,
   "metadata": {},
   "outputs": [
    {
     "data": {
      "text/plain": [
       "(21193, 5)"
      ]
     },
     "execution_count": 13,
     "metadata": {},
     "output_type": "execute_result"
    }
   ],
   "source": [
    "# De este df solo necesito user_id, item_id, 'items_count', item_name y play time_forever, así que\n",
    "\n",
    "columnas_borrar = [ 'user_url', 'playtime_2weeks']\n",
    "\n",
    "df_userdata = df_userdata.drop(columnas_borrar,axis=1)"
   ]
  },
  {
   "cell_type": "code",
   "execution_count": null,
   "metadata": {},
   "outputs": [],
   "source": [
    "df_developer.head()"
   ]
  },
  {
   "cell_type": "code",
   "execution_count": null,
   "metadata": {},
   "outputs": [],
   "source": [
    "    df_developer_trabajo = df_developer.groupby(['developer','release_year']).agg(items_total=('id','count'),items_free =('price', lambda x: (x=='Free to Play').sum())).reset_index()\n",
    "    df_developer_trabajo"
   ]
  },
  {
   "cell_type": "code",
   "execution_count": 16,
   "metadata": {},
   "outputs": [],
   "source": [
    "    # Generar columna porcentaje   \n",
    "    \n",
    "    df_developer_trabajo['porcentaje'] =  (df_developer_trabajo['items_free']/df_developer_trabajo['items_total'])*100\n",
    "    \n",
    "    # Aplico formato de porcentaje a cada elemento\n",
    "\n",
    "    df_developer_trabajo['porcentaje'] = df_developer_trabajo['porcentaje'].map('{:.2f}%'.format)\n"
   ]
  },
  {
   "cell_type": "code",
   "execution_count": null,
   "metadata": {},
   "outputs": [],
   "source": [
    "    \n",
    "# Dirección de  Respuesto_Developer \n",
    "\n",
    "df_developer.to_parquet('df_developer.parquet')\n",
    "df_developer"
   ]
  }
 ],
 "metadata": {
  "kernelspec": {
   "display_name": "Python 3",
   "language": "python",
   "name": "python3"
  },
  "language_info": {
   "codemirror_mode": {
    "name": "ipython",
    "version": 3
   },
   "file_extension": ".py",
   "mimetype": "text/x-python",
   "name": "python",
   "nbconvert_exporter": "python",
   "pygments_lexer": "ipython3",
   "version": "3.12.1"
  }
 },
 "nbformat": 4,
 "nbformat_minor": 2
}
