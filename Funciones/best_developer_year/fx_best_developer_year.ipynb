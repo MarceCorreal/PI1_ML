{
 "cells": [
  {
   "cell_type": "code",
   "execution_count": 1,
   "metadata": {},
   "outputs": [],
   "source": [
    "# Importaciones de bibliotecas necesarias\n",
    "import pandas as pd  # Pandas para manipulación de datos tabulares\n",
    "import json  # Módulo para trabajar con JSON\n",
    "import ast  # Módulo para evaluar expresiones literales de Python\n",
    "import re  # Módulo para trabajar con expresiones regulares\n",
    "from textblob import TextBlob # Importa la clase TextBlob desde la biblioteca TextBlob\n",
    "import nltk # Importa la biblioteca nltk (Natural Language Toolkit)\n",
    "import csv # Importa el módulo csv en Python\n",
    "\n",
    "# Habilita la recarga automática de módulos antes de ejecutar una celda\n",
    "%load_ext autoreload\n",
    "%autoreload 2\n",
    "\n",
    "# Importa el módulo de advertencias y configura para ignorar todas las advertencias\n",
    "import warnings\n",
    "warnings.filterwarnings(\"ignore\")"
   ]
  },
  {
   "cell_type": "code",
   "execution_count": 3,
   "metadata": {},
   "outputs": [],
   "source": [
    "# Ruta al archivo CSV\n",
    "ruta_parquet = r\"C:\\Users\\Usuario\\Henry\\PI1_ML\\Funciones\\best_developer_year\\dataset_endpoint_4.parquet\"\n",
    "\n",
    "# Leer el archivo CSV y convertirlo en un DataFrame\n",
    "df_endpoint_4= pd.read_parquet(ruta_parquet)"
   ]
  },
  {
   "cell_type": "code",
   "execution_count": null,
   "metadata": {},
   "outputs": [],
   "source": [
    "df_endpoint_4.head()"
   ]
  },
  {
   "cell_type": "code",
   "execution_count": 5,
   "metadata": {},
   "outputs": [],
   "source": [
    "def best_developer_year(dataframe, year):\n",
    "    # Filtrar por el año pedido\n",
    "    df_year = dataframe[dataframe['release_anio'] == year]\n",
    "\n",
    "    # Filtrar por valores iguales a 2 en la columna sentiment analysis\n",
    "    df_filtered = df_year[df_year['sentiment_analysis'] == 2]\n",
    "\n",
    "    # Agrupar por desarrollador y sumar la columna sentiment_analysis\n",
    "    df_grouped = df_filtered.groupby('developer')['sentiment_analysis'].sum().reset_index()\n",
    "\n",
    "    # Ordenar el DataFrame por la columna sumada en orden descendente\n",
    "    df_sorted = df_grouped.sort_values(by='sentiment_analysis', ascending=False)\n",
    "\n",
    "    # Obtener los tres primeros desarrolladores y sus sumas\n",
    "    top_developers = df_sorted.head(3)\n",
    "\n",
    "    # Crear el formato de retorno\n",
    "    result = [{\"Puesto {}: {}\".format(i+1, row['developer']): row['sentiment_analysis']} for i, (_, row) in enumerate(top_developers.iterrows())]\n",
    "\n",
    "    return result"
   ]
  },
  {
   "cell_type": "code",
   "execution_count": 7,
   "metadata": {},
   "outputs": [
    {
     "data": {
      "text/plain": [
       "[{'Puesto 1: Smartly Dressed Games': 2850},\n",
       " {'Puesto 2: Freejam': 1176},\n",
       " {'Puesto 3: Studio Wildcard,Instinct Games,Efecto Studios,Virtual Basement LLC': 644}]"
      ]
     },
     "execution_count": 7,
     "metadata": {},
     "output_type": "execute_result"
    }
   ],
   "source": [
    "best_developer_year(df_endpoint_4, 2017)"
   ]
  }
 ],
 "metadata": {
  "kernelspec": {
   "display_name": "venv",
   "language": "python",
   "name": "python3"
  },
  "language_info": {
   "codemirror_mode": {
    "name": "ipython",
    "version": 3
   },
   "file_extension": ".py",
   "mimetype": "text/x-python",
   "name": "python",
   "nbconvert_exporter": "python",
   "pygments_lexer": "ipython3",
   "version": "3.12.1"
  }
 },
 "nbformat": 4,
 "nbformat_minor": 2
}
