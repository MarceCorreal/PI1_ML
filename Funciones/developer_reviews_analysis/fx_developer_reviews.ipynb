{
 "cells": [
  {
   "cell_type": "code",
   "execution_count": 1,
   "metadata": {},
   "outputs": [
    {
     "name": "stdout",
     "output_type": "stream",
     "text": [
      "Note: you may need to restart the kernel to use updated packages.\n"
     ]
    },
    {
     "name": "stderr",
     "output_type": "stream",
     "text": [
      "ERROR: Could not find a version that satisfies the requirement ipython-autoreload (from versions: none)\n",
      "ERROR: No matching distribution found for ipython-autoreload\n"
     ]
    }
   ],
   "source": [
    "pip install ipython-autoreload"
   ]
  },
  {
   "cell_type": "code",
   "execution_count": 1,
   "metadata": {},
   "outputs": [],
   "source": [
    "# Importaciones de bibliotecas necesarias\n",
    "import pandas as pd  # Pandas para manipulación de datos tabulares\n",
    "import json  # Módulo para trabajar con JSON\n",
    "import ast  # Módulo para evaluar expresiones literales de Python\n",
    "import re  # Módulo para trabajar con expresiones regulares\n",
    "from textblob import TextBlob # Importa la clase TextBlob desde la biblioteca TextBlob\n",
    "import nltk # Importa la biblioteca nltk (Natural Language Toolkit)\n",
    "import csv # Importa el módulo csv en Python\n",
    "\n",
    "# Habilita la recarga automática de módulos antes de ejecutar una celda\n",
    "%load_ext autoreload\n",
    "%autoreload 2\n",
    "\n",
    "# Importa el módulo de advertencias y configura para ignorar todas las advertencias\n",
    "import warnings\n",
    "warnings.filterwarnings(\"ignore\")"
   ]
  },
  {
   "cell_type": "code",
   "execution_count": 3,
   "metadata": {},
   "outputs": [],
   "source": [
    "# Ruta al archivo CSV\n",
    "ruta_parquet = r\"C:\\Users\\Usuario\\Henry\\PI1_ML\\Funciones\\developer_reviews_analysis\\dataset_endpoint_5.parquet\"\n",
    "\n",
    "# Leer el archivo CSV y convertirlo en un DataFrame\n",
    "df_endpoint_5= pd.read_parquet(ruta_parquet)"
   ]
  },
  {
   "cell_type": "code",
   "execution_count": null,
   "metadata": {},
   "outputs": [],
   "source": [
    "df_endpoint_5.head()"
   ]
  },
  {
   "cell_type": "code",
   "execution_count": 5,
   "metadata": {},
   "outputs": [],
   "source": [
    "def developer_reviews_analysis(df, desarrolladora):\n",
    "    # Filtrar datos para la desarrolladora proporcionada\n",
    "    filtered_data = df[df['developer'] == desarrolladora]\n",
    "\n",
    "    # Inicializar contadores\n",
    "    positive_count = 0\n",
    "    negative_count = 0\n",
    "\n",
    "    # Contar reseñas positivas y negativas\n",
    "    for sentiment in filtered_data['sentiment_analysis']:\n",
    "        if sentiment == 0:\n",
    "            negative_count += 1\n",
    "        elif sentiment == 2:\n",
    "            positive_count += 1\n",
    "\n",
    "    # Crear el diccionario de resultados con el formato deseado\n",
    "    result = {desarrolladora: [f\"Negative = {negative_count}\", f\"Positive = {positive_count}\"]}\n",
    "\n",
    "    return result"
   ]
  },
  {
   "cell_type": "code",
   "execution_count": 6,
   "metadata": {},
   "outputs": [
    {
     "data": {
      "text/plain": [
       "{'Valve': ['Negative = 969', 'Positive = 4817']}"
      ]
     },
     "execution_count": 6,
     "metadata": {},
     "output_type": "execute_result"
    }
   ],
   "source": [
    "developer_reviews_analysis(df_endpoint_5,'Valve')"
   ]
  }
 ],
 "metadata": {
  "kernelspec": {
   "display_name": "venv",
   "language": "python",
   "name": "python3"
  },
  "language_info": {
   "codemirror_mode": {
    "name": "ipython",
    "version": 3
   },
   "file_extension": ".py",
   "mimetype": "text/x-python",
   "name": "python",
   "nbconvert_exporter": "python",
   "pygments_lexer": "ipython3",
   "version": "3.12.1"
  }
 },
 "nbformat": 4,
 "nbformat_minor": 2
}
