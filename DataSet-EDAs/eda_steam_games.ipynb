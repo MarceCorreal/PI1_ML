{
 "cells": [
  {
   "cell_type": "code",
   "execution_count": 162,
   "metadata": {},
   "outputs": [],
   "source": [
    "# Importación de Bibliotecas\n",
    "\n",
    "import json\n",
    "import pandas as pd\n",
    "import gzip\n",
    "import ast\n",
    "from datetime import datetime\n",
    "import numpy as np\n",
    "\n"
   ]
  },
  {
   "cell_type": "code",
   "execution_count": 163,
   "metadata": {},
   "outputs": [],
   "source": [
    " # Hago función para descomprimir el archivo en datos\n",
    " \n",
    " def abrir_archivo_comprimido (nombre_archivo=r\"C:\\Users\\Usuario\\Henry\\PI1_MLOps\\Consigna y Edas\\steam_games.json.gz\"):\n",
    "   try:\n",
    "      with gzip.open('steam_games','rt', encoding='utf-8') as archivo_comprimido:\n",
    "         datos=  json.load(archivo_comprimido)\n",
    "                     \n",
    "      return dataframe\n",
    "       \n",
    "       # Añado un bloque try y except para manejar excepciones como FileNotFoundError y otros errores que puedan ocurrir al abrir el archivo.\n",
    "\n",
    "   except FileNotFoundError:\n",
    "        print(f\"El archivo '{steam_games}' no se encontró.\")\n",
    "   except Exception   as e:\n",
    "        print(f\"Error al abrir el archivo comprimido: {str(e)}\") \n"
   ]
  },
  {
   "cell_type": "code",
   "execution_count": 167,
   "metadata": {},
   "outputs": [],
   "source": [
    "# Convierto los datos JSON en un DataFrame de Pandas\n",
    "\n",
    "df_steam_games = pd.read_json(r\"C:\\Users\\Usuario\\Henry\\PI1_MachineLearning\\Consignas y Edas\\steam_games.json.gz\" , lines=True)"
   ]
  },
  {
   "cell_type": "code",
   "execution_count": null,
   "metadata": {},
   "outputs": [],
   "source": [
    "df_steam_games.info()\n",
    "\n",
    "# Puedo ver que todas las columnas son de tipo objeto menor early_access y ID\n",
    "# Es un archivo grande 11.9 MB"
   ]
  },
  {
   "cell_type": "code",
   "execution_count": 169,
   "metadata": {},
   "outputs": [
    {
     "data": {
      "text/plain": [
       "(120445, 13)"
      ]
     },
     "execution_count": 169,
     "metadata": {},
     "output_type": "execute_result"
    }
   ],
   "source": [
    "df_steam_games.shape"
   ]
  },
  {
   "cell_type": "code",
   "execution_count": null,
   "metadata": {},
   "outputs": [],
   "source": [
    "df_steam_games.head()\n"
   ]
  },
  {
   "cell_type": "code",
   "execution_count": 171,
   "metadata": {},
   "outputs": [],
   "source": [
    "# Lo primero es eliminar los None y vacios\n",
    "\n",
    "df_steam_games = df_steam_games.dropna()\n"
   ]
  },
  {
   "cell_type": "code",
   "execution_count": null,
   "metadata": {},
   "outputs": [],
   "source": [
    "df_steam_games.head()"
   ]
  },
  {
   "cell_type": "code",
   "execution_count": 173,
   "metadata": {},
   "outputs": [],
   "source": [
    "# Borro columna title que está repetida con app_name\n",
    "\n",
    "df_steam_games = df_steam_games.drop('title', axis=1)"
   ]
  },
  {
   "cell_type": "code",
   "execution_count": 174,
   "metadata": {},
   "outputs": [],
   "source": [
    "# Borro columna tags que está repetida con genres\n",
    "\n",
    "df_steam_games = df_steam_games.drop('tags', axis=1)"
   ]
  },
  {
   "cell_type": "code",
   "execution_count": 175,
   "metadata": {},
   "outputs": [
    {
     "data": {
      "text/plain": [
       "(22530, 11)"
      ]
     },
     "execution_count": 175,
     "metadata": {},
     "output_type": "execute_result"
    }
   ],
   "source": [
    "df_steam_games.shape\n",
    "# Podemos  ver que habian 120445-2250 = 118.195 filas con None ó vacios"
   ]
  },
  {
   "cell_type": "code",
   "execution_count": null,
   "metadata": {},
   "outputs": [],
   "source": [
    "df_steam_games.info()"
   ]
  },
  {
   "cell_type": "code",
   "execution_count": null,
   "metadata": {},
   "outputs": [],
   "source": [
    "# Ahora toca desanidar columna genres y specs, para eso uso explode\n",
    "\n",
    "df_steam_games = df_steam_games.explode('genres')\n",
    "df_steam_games"
   ]
  },
  {
   "cell_type": "code",
   "execution_count": 177,
   "metadata": {},
   "outputs": [],
   "source": [
    "# Exploto columna specs\n",
    "\n",
    "df_steam_games = df_steam_games.explode(\"specs\")"
   ]
  },
  {
   "cell_type": "code",
   "execution_count": null,
   "metadata": {},
   "outputs": [],
   "source": [
    "df_steam_games.info()"
   ]
  },
  {
   "cell_type": "code",
   "execution_count": 179,
   "metadata": {},
   "outputs": [],
   "source": [
    "# Se tienen que manejar los valores no numéricos por que no deja, los busco y reemplazo con nan para borrarlos luego cambio a int\n",
    "\n",
    "df_steam_games['price'] = pd.to_numeric(df_steam_games['price'], errors='coerce')"
   ]
  },
  {
   "cell_type": "code",
   "execution_count": 180,
   "metadata": {},
   "outputs": [],
   "source": [
    "df_steam_games = df_steam_games.dropna()"
   ]
  },
  {
   "cell_type": "code",
   "execution_count": null,
   "metadata": {},
   "outputs": [],
   "source": [
    "df_steam_games.info()"
   ]
  },
  {
   "cell_type": "code",
   "execution_count": 182,
   "metadata": {},
   "outputs": [],
   "source": [
    "# Convertir la columna a tipo strn or que no pude a numero\n",
    "df_steam_games['price'] = df_steam_games['price'].astype(str)"
   ]
  },
  {
   "cell_type": "code",
   "execution_count": 183,
   "metadata": {},
   "outputs": [
    {
     "name": "stdout",
     "output_type": "stream",
     "text": [
      "Tipo de datos de la columna 'columna_nombre': object\n"
     ]
    }
   ],
   "source": [
    "# Primero verifico el tipo de dato que tiene la columna release_date\t\n",
    "\n",
    "Tipo_de_dato_release_date = df_steam_games['release_date'].dtype\n",
    "\n",
    "print(\"Tipo de datos de la columna 'columna_nombre':\", Tipo_de_dato_release_date)"
   ]
  },
  {
   "cell_type": "code",
   "execution_count": 184,
   "metadata": {},
   "outputs": [],
   "source": [
    "#convertir el tipo de dato de objeto a fecha, pero como hay valores que no pueden ser convertidoss, primero los valido\n",
    "\n",
    "df_steam_games['release_date'] = pd.to_datetime(df_steam_games['release_date'], errors='coerce')"
   ]
  },
  {
   "cell_type": "code",
   "execution_count": 185,
   "metadata": {},
   "outputs": [],
   "source": [
    "#Convierto el tipo de dato de objeto a fecha\n",
    "df_steam_games['release_date'] = pd.to_datetime(df_steam_games['release_date'])\n"
   ]
  },
  {
   "cell_type": "code",
   "execution_count": null,
   "metadata": {},
   "outputs": [],
   "source": [
    "df_steam_games.info()"
   ]
  },
  {
   "cell_type": "code",
   "execution_count": 187,
   "metadata": {},
   "outputs": [],
   "source": [
    "#Ahora lo convierto al formato indicado en el readme AAAA-MM-DD\n",
    "\n",
    "df_steam_games['release_date'] = pd.to_datetime(df_steam_games['release_date'], format='%Y/%m/%d')"
   ]
  },
  {
   "cell_type": "code",
   "execution_count": 189,
   "metadata": {},
   "outputs": [],
   "source": [
    "# Creo la columna con el año\n",
    "df_steam_games['release_year'] = df_steam_games['release_date'].dt.year"
   ]
  },
  {
   "cell_type": "code",
   "execution_count": null,
   "metadata": {},
   "outputs": [],
   "source": [
    "df_steam_games"
   ]
  },
  {
   "cell_type": "code",
   "execution_count": 191,
   "metadata": {},
   "outputs": [],
   "source": [
    "#como hay datos que no son numero sino raros, pues elimino esas filas\n",
    "df_steam_games = df_steam_games.dropna(subset=['release_year'])"
   ]
  },
  {
   "cell_type": "code",
   "execution_count": null,
   "metadata": {},
   "outputs": [],
   "source": [
    "# convierto columna release year en int para quitarle el punto convierto en int\n",
    "df_steam_games['release_year'] = df_steam_games['release_year'].astype(int)"
   ]
  },
  {
   "cell_type": "code",
   "execution_count": null,
   "metadata": {},
   "outputs": [],
   "source": [
    "df_steam_games"
   ]
  },
  {
   "cell_type": "code",
   "execution_count": null,
   "metadata": {},
   "outputs": [],
   "source": [
    "# Por si acaso se necesita voy a convertir columna id en int\n",
    "\n",
    "df_steam_games['id'] = df_steam_games['id'].astype(int)"
   ]
  },
  {
   "cell_type": "code",
   "execution_count": null,
   "metadata": {},
   "outputs": [],
   "source": [
    "df_steam_games"
   ]
  },
  {
   "cell_type": "code",
   "execution_count": 196,
   "metadata": {},
   "outputs": [],
   "source": [
    "# Dejaré todos los df en parquet por temas de espacio\n",
    "\n",
    "df_steam_games.to_parquet('df_steam_games.parquet')\n"
   ]
  }
 ],
 "metadata": {
  "kernelspec": {
   "display_name": "Python 3",
   "language": "python",
   "name": "python3"
  },
  "language_info": {
   "codemirror_mode": {
    "name": "ipython",
    "version": 3
   },
   "file_extension": ".py",
   "mimetype": "text/x-python",
   "name": "python",
   "nbconvert_exporter": "python",
   "pygments_lexer": "ipython3",
   "version": "3.12.1"
  }
 },
 "nbformat": 4,
 "nbformat_minor": 2
}
