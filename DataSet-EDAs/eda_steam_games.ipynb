{
 "cells": [
  {
   "cell_type": "code",
   "execution_count": null,
   "metadata": {},
   "outputs": [],
   "source": [
    "pip install pandas\n"
   ]
  },
  {
   "cell_type": "code",
   "execution_count": 20,
   "metadata": {},
   "outputs": [],
   "source": [
    "import gzip\n",
    "import json\n",
    "import pandas as pd"
   ]
  },
  {
   "cell_type": "code",
   "execution_count": 24,
   "metadata": {},
   "outputs": [],
   "source": [
    "archivo_gz = r\"C:\\Users\\Usuario\\Henry\\PI1_ML\\DataSet-EDAs\\steam_games.json.gz\"\n",
    "archivo_descomprimido = r\"C:\\Users\\Usuario\\Henry\\PI1_ML\\DataSet-EDAs\\steam_games.json\""
   ]
  },
  {
   "cell_type": "code",
   "execution_count": 25,
   "metadata": {},
   "outputs": [],
   "source": [
    "# Descomprimir el archivo \"C:\\Users\\Usuario\\Henry\\PI1_ML\\DataSet-EDAs\\steam_games.json.gz\"\n",
    "\n",
    "with gzip.open(archivo_gz, 'rb') as f_in:\n",
    "    with open(archivo_descomprimido, 'wb') as f_out:\n",
    "        f_out.write(f_in.read())"
   ]
  },
  {
   "cell_type": "code",
   "execution_count": null,
   "metadata": {},
   "outputs": [],
   "source": [
    "# Leer el archivo descomprimido y cargarlo en un diccionario\n",
    "with open(archivo_descomprimido, 'r') as f:\n",
    "    data = json.load(f)\n"
   ]
  },
  {
   "cell_type": "code",
   "execution_count": null,
   "metadata": {},
   "outputs": [],
   "source": [
    "# Leer el archivo descomprimido y cargarlo en un DataFrame de Pandas\n",
    "df_steam_games = pd.read_json(archivo_descomprimido)\n",
    "df_steam_games\n"
   ]
  }
 ],
 "metadata": {
  "kernelspec": {
   "display_name": "venv",
   "language": "python",
   "name": "python3"
  },
  "language_info": {
   "codemirror_mode": {
    "name": "ipython",
    "version": 3
   },
   "file_extension": ".py",
   "mimetype": "text/x-python",
   "name": "python",
   "nbconvert_exporter": "python",
   "pygments_lexer": "ipython3",
   "version": "3.12.1"
  }
 },
 "nbformat": 4,
 "nbformat_minor": 2
}
