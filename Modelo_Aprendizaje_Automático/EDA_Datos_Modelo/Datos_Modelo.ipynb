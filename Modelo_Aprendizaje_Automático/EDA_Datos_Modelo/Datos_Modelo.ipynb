{
 "cells": [
  {
   "cell_type": "code",
   "execution_count": 3,
   "metadata": {},
   "outputs": [],
   "source": [
    "import pandas as pd  # Pandas para manipulación de datos tabulares\n",
    "import json  # Módulo para trabajar con JSON\n",
    "import ast  # Módulo para evaluar expresiones literales de Python\n",
    "import re  # Módulo para trabajar con expresiones regulares\n",
    "from textblob import TextBlob # Importa la clase TextBlob desde la biblioteca TextBlob\n",
    "import nltk # Importa la biblioteca nltk (Natural Language Toolkit)\n",
    "import csv # Importa el módulo csv en Python\n",
    "# Habilita la recarga automática de módulos antes de ejecutar una celda\n",
    "%load_ext autoreload\n",
    "%autoreload 2\n",
    "\n",
    "# Importa el módulo de advertencias y configura para ignorar todas las advertencias\n",
    "import warnings\n",
    "warnings.filterwarnings(\"ignore\")"
   ]
  },
  {
   "cell_type": "code",
   "execution_count": null,
   "metadata": {},
   "outputs": [],
   "source": [
    "# Lo que hace esta función es contar las ocurencias de cada registro\n",
    "# y luego sacer el porcentaje de ese registro sobre el total. se va a \n",
    "# utilizar en el notebook del eda_datos_modelo"
   ]
  },
  {
   "cell_type": "code",
   "execution_count": 2,
   "metadata": {},
   "outputs": [],
   "source": [
    "def resumen_cant_porcentaje(df, columna):\n",
    "    # Cuenta la cantidad de True/False luego calcula el porcentaje\n",
    "    counts = df[columna].value_counts()\n",
    "    percentages = round(100 * counts / len(df),2)\n",
    "    # Crea un dataframe con el resumen\n",
    "    df_results = pd.DataFrame({\n",
    "        \"Cantidad\": counts,\n",
    "        \"Porcentaje\": percentages\n",
    "    })\n",
    "    return df_results"
   ]
  }
 ],
 "metadata": {
  "kernelspec": {
   "display_name": "venv",
   "language": "python",
   "name": "python3"
  },
  "language_info": {
   "codemirror_mode": {
    "name": "ipython",
    "version": 3
   },
   "file_extension": ".py",
   "mimetype": "text/x-python",
   "name": "python",
   "nbconvert_exporter": "python",
   "pygments_lexer": "ipython3",
   "version": "3.12.1"
  }
 },
 "nbformat": 4,
 "nbformat_minor": 2
}
