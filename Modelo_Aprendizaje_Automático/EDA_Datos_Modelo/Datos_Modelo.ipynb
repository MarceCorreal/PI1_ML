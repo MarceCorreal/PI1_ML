{
 "cells": [
  {
   "cell_type": "code",
   "execution_count": 1,
   "metadata": {},
   "outputs": [],
   "source": [
    "# Importaciones de bibliotecas necesarias\n",
    "import pandas as pd  # Pandas para manipulación de datos tabulares\n",
    "import json  # Módulo para trabajar con JSON\n",
    "import ast  # Módulo para evaluar expresiones literales de Python\n",
    "import re  # Módulo para trabajar con expresiones regulares\n",
    "from textblob import TextBlob # Importa la clase TextBlob desde la biblioteca TextBlob\n",
    "import nltk # Importa la biblioteca nltk (Natural Language Toolkit)\n",
    "import csv # Importa el módulo csv en Python\n",
    "\n",
    "# Habilita la recarga automática de módulos antes de ejecutar una celda\n",
    "%load_ext autoreload\n",
    "%autoreload 2\n",
    "\n",
    "# Importa el módulo de advertencias y configura para ignorar todas las advertencias\n",
    "import warnings\n",
    "warnings.filterwarnings(\"ignore\")"
   ]
  },
  {
   "cell_type": "code",
   "execution_count": 14,
   "metadata": {},
   "outputs": [
    {
     "data": {
      "text/plain": [
       "'  El objetivo del modelo de recomendación es generar una lista de 5 juegos \\nal proporcionar el nombre de un juego o el ID de un usuario. \\nEsta recomendación se basa en un puntaje que debe ser determinado. \\nPara lograr esto, se examinan los dataframes df_reviews y df_items, los cuales fueron analizados previamente.'"
      ]
     },
     "execution_count": 14,
     "metadata": {},
     "output_type": "execute_result"
    }
   ],
   "source": [
    "'''  El objetivo del modelo de recomendación es generar una lista de 5 juegos \n",
    "al proporcionar el nombre de un juego o el ID de un usuario. \n",
    "Esta recomendación se basa en un puntaje que debe ser determinado. \n",
    "Para lograr esto, se examinan los dataframes df_reviews y df_items, los cuales fueron analizados previamente.'''"
   ]
  },
  {
   "cell_type": "code",
   "execution_count": null,
   "metadata": {},
   "outputs": [],
   "source": [
    "''' En esteNotebook se realiza el Análisis Exploratorio de los datos de los tres conjuntos de datos de lla consigna\n",
    "ya limpios para elegir  las variables que serán usadas para entrenar el modelo de recomendación solicitado.\n",
    "Esto reducirá el tamaño de los df y solo incluirá los datos necesarios'''"
   ]
  },
  {
   "cell_type": "code",
   "execution_count": null,
   "metadata": {},
   "outputs": [],
   "source": [
    "# Abro archivo user_reviews y lo renombro df_reviews para diferenciarlo de los APIs\n",
    "\n",
    "ruta_df_user_reviews = r\"C:\\Users\\Usuario\\Henry\\PI1_ML\\DataSet-EDAs\\df_user_reviews.parquet\"\n",
    "df_reviews = pd.read_parquet(ruta_df_user_reviews)\n",
    "df_reviews.head()"
   ]
  },
  {
   "cell_type": "code",
   "execution_count": null,
   "metadata": {},
   "outputs": [],
   "source": [
    "# Hago merge con la columna helpful del dataframe original del \n",
    "# user_reviews. para eso abro el dataframe df_user_reviews_sentimiento. para eso abro el df que hice en eda_users_reviews_helpful\n",
    "# Hago esta vuenta por que el df_reviews ya está limpio\n",
    "\n",
    "ruta_df_user_reviews_helpful = r\"C:\\Users\\Usuario\\Henry\\PI1_ML\\Modelo_Aprendizaje_Automático\\EDA_Datos_Modelo\\df_user_reviews_helpul.parquet\"\n",
    "df_user_reviews_helpul = pd.read_parquet(ruta_df_user_reviews_helpful)\n",
    "df_user_reviews_helpul.head()\n"
   ]
  },
  {
   "cell_type": "code",
   "execution_count": 5,
   "metadata": {},
   "outputs": [],
   "source": [
    "# Hago Merge\n",
    "\n",
    "df_reviews = pd.merge(df_reviews, df_user_reviews_helpul, on='item_id')\n"
   ]
  },
  {
   "cell_type": "code",
   "execution_count": null,
   "metadata": {},
   "outputs": [],
   "source": [
    "df_reviews.head()"
   ]
  },
  {
   "cell_type": "code",
   "execution_count": 6,
   "metadata": {},
   "outputs": [],
   "source": [
    "# Borro los NA\n",
    "\n",
    "df_reviews = df_reviews.dropna()"
   ]
  },
  {
   "cell_type": "code",
   "execution_count": 7,
   "metadata": {},
   "outputs": [],
   "source": [
    "# retiro duplicados\n",
    "df_reviews = df_reviews.drop_duplicates()"
   ]
  },
  {
   "cell_type": "code",
   "execution_count": null,
   "metadata": {},
   "outputs": [],
   "source": [
    "df_reviews.head()"
   ]
  },
  {
   "cell_type": "code",
   "execution_count": null,
   "metadata": {},
   "outputs": [],
   "source": [
    "# Renombro columnas para saber que son originales y no modificadas\n",
    "\n",
    "df_reviews = df_reviews.rename(columns={'posted': 'reviews_date'})\n",
    "df_reviews = df_reviews.rename(columns={'item_id': 'reviews_item_id'})\n",
    "df_reviews = df_reviews.rename(columns={'recommend': 'reviews_recommend'})\n",
    "df_reviews = df_reviews.rename(columns={'helpful': 'reviews_helpful'})\n",
    "\n",
    "df_reviews.head()\n"
   ]
  },
  {
   "cell_type": "code",
   "execution_count": 10,
   "metadata": {},
   "outputs": [
    {
     "name": "stdout",
     "output_type": "stream",
     "text": [
      "<class 'pandas.core.frame.DataFrame'>\n",
      "Index: 1741916 entries, 0 to 43706992\n",
      "Data columns (total 7 columns):\n",
      " #   Column              Dtype \n",
      "---  ------              ----- \n",
      " 0   user_id             object\n",
      " 1   user_url            object\n",
      " 2   reviews_date        object\n",
      " 3   reviews_item_id     object\n",
      " 4   reviews_recommend   bool  \n",
      " 5   sentiment_analysis  int64 \n",
      " 6   reviews_helpful     object\n",
      "dtypes: bool(1), int64(1), object(5)\n",
      "memory usage: 94.7+ MB\n"
     ]
    }
   ],
   "source": [
    "df_reviews.info()"
   ]
  },
  {
   "cell_type": "code",
   "execution_count": 11,
   "metadata": {},
   "outputs": [],
   "source": [
    "df_reviews.to_parquet('df_reviews.parquet')"
   ]
  },
  {
   "cell_type": "code",
   "execution_count": 12,
   "metadata": {},
   "outputs": [
    {
     "name": "stdout",
     "output_type": "stream",
     "text": [
      "La cantidad de registros que hay son: 1741916\n"
     ]
    }
   ],
   "source": [
    "# Reviso número de registros\n",
    "\n",
    "print(f'La cantidad de registros que hay son: {df_reviews.shape[0]}')"
   ]
  },
  {
   "cell_type": "code",
   "execution_count": null,
   "metadata": {},
   "outputs": [],
   "source": [
    "df_reviews.info()"
   ]
  }
 ],
 "metadata": {
  "kernelspec": {
   "display_name": "venv",
   "language": "python",
   "name": "python3"
  },
  "language_info": {
   "codemirror_mode": {
    "name": "ipython",
    "version": 3
   },
   "file_extension": ".py",
   "mimetype": "text/x-python",
   "name": "python",
   "nbconvert_exporter": "python",
   "pygments_lexer": "ipython3",
   "version": "3.12.1"
  }
 },
 "nbformat": 4,
 "nbformat_minor": 2
}
