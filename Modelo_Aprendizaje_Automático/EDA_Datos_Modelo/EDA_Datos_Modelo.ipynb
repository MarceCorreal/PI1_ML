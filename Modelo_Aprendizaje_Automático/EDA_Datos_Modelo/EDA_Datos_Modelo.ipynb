{
 "cells": [
  {
   "cell_type": "code",
   "execution_count": 23,
   "metadata": {},
   "outputs": [
    {
     "name": "stdout",
     "output_type": "stream",
     "text": [
      "The autoreload extension is already loaded. To reload it, use:\n",
      "  %reload_ext autoreload\n"
     ]
    }
   ],
   "source": [
    "# Importaciones de bibliotecas necesarias\n",
    "import pandas as pd  # Pandas para manipulación de datos tabulares\n",
    "import json  # Módulo para trabajar con JSON\n",
    "import ast  # Módulo para evaluar expresiones literales de Python\n",
    "import re  # Módulo para trabajar con expresiones regulares\n",
    "from textblob import TextBlob # Importa la clase TextBlob desde la biblioteca TextBlob\n",
    "import nltk # Importa la biblioteca nltk (Natural Language Toolkit)\n",
    "import csv # Importa el módulo csv en Python\n",
    "import utils\n",
    "\n",
    "# Habilita la recarga automática de módulos antes de ejecutar una celda\n",
    "%load_ext autoreload\n",
    "%autoreload 2\n",
    "\n",
    "# Importa el módulo de advertencias y configura para ignorar todas las advertencias\n",
    "import warnings\n",
    "warnings.filterwarnings(\"ignore\")"
   ]
  },
  {
   "cell_type": "code",
   "execution_count": 14,
   "metadata": {},
   "outputs": [
    {
     "data": {
      "text/plain": [
       "'  El objetivo del modelo de recomendación es generar una lista de 5 juegos \\nal proporcionar el nombre de un juego o el ID de un usuario. \\nEsta recomendación se basa en un puntaje que debe ser determinado. \\nPara lograr esto, se examinan los dataframes df_reviews y df_items, los cuales fueron analizados previamente.'"
      ]
     },
     "execution_count": 14,
     "metadata": {},
     "output_type": "execute_result"
    }
   ],
   "source": [
    "'''  El objetivo del modelo de recomendación es generar una lista de 5 juegos \n",
    "al proporcionar el nombre de un juego o el ID de un usuario. \n",
    "Esta recomendación se basa en un puntaje que debe ser determinado. \n",
    "Para lograr esto, se examinan los dataframes df_reviews y df_items, los cuales fueron analizados previamente.'''"
   ]
  },
  {
   "cell_type": "code",
   "execution_count": null,
   "metadata": {},
   "outputs": [],
   "source": [
    "''' En esteNotebook se realiza el Análisis Exploratorio de los datos de los tres conjuntos de datos de lla consigna\n",
    "ya limpios para elegir  las variables que serán usadas para entrenar el modelo de recomendación solicitado.\n",
    "Esto reducirá el tamaño de los df y solo incluirá los datos necesarios'''"
   ]
  },
  {
   "cell_type": "code",
   "execution_count": null,
   "metadata": {},
   "outputs": [],
   "source": [
    "# Abro archivo user_reviews y lo renombro df_reviews para diferenciarlo de los APIs\n",
    "\n",
    "ruta_df_user_reviews = r\"C:\\Users\\Usuario\\Henry\\PI1_ML\\DataSet-EDAs\\df_user_reviews.parquet\"\n",
    "df_reviews = pd.read_parquet(ruta_df_user_reviews)\n",
    "df_reviews.head()"
   ]
  },
  {
   "cell_type": "code",
   "execution_count": null,
   "metadata": {},
   "outputs": [],
   "source": [
    "# Hago merge con la columna helpful del dataframe original del \n",
    "# user_reviews. para eso abro el dataframe df_user_reviews_sentimiento. para eso abro el df que hice en eda_users_reviews_helpful\n",
    "# Hago esta vuenta por que el df_reviews ya está limpio\n",
    "\n",
    "ruta_df_user_reviews_helpful = r\"C:\\Users\\Usuario\\Henry\\PI1_ML\\Modelo_Aprendizaje_Automático\\EDA_Datos_Modelo\\df_user_reviews_helpul.parquet\"\n",
    "df_user_reviews_helpul = pd.read_parquet(ruta_df_user_reviews_helpful)\n",
    "df_user_reviews_helpul.head()\n"
   ]
  },
  {
   "cell_type": "code",
   "execution_count": 26,
   "metadata": {},
   "outputs": [],
   "source": [
    "# Hago Merge\n",
    "\n",
    "df_reviews = pd.merge(df_reviews, df_user_reviews_helpul, on='item_id')\n"
   ]
  },
  {
   "cell_type": "code",
   "execution_count": null,
   "metadata": {},
   "outputs": [],
   "source": [
    "df_reviews.head()"
   ]
  },
  {
   "cell_type": "code",
   "execution_count": 28,
   "metadata": {},
   "outputs": [
    {
     "data": {
      "text/plain": [
       "(43706993, 7)"
      ]
     },
     "execution_count": 28,
     "metadata": {},
     "output_type": "execute_result"
    }
   ],
   "source": [
    "df_reviews.shape"
   ]
  },
  {
   "cell_type": "code",
   "execution_count": 29,
   "metadata": {},
   "outputs": [],
   "source": [
    "# Borro los NA\n",
    "\n",
    "df_reviews = df_reviews.dropna()"
   ]
  },
  {
   "cell_type": "code",
   "execution_count": 30,
   "metadata": {},
   "outputs": [],
   "source": [
    "# retiro duplicados\n",
    "df_reviews = df_reviews.drop_duplicates()"
   ]
  },
  {
   "cell_type": "code",
   "execution_count": 31,
   "metadata": {},
   "outputs": [
    {
     "data": {
      "text/plain": [
       "(1741916, 7)"
      ]
     },
     "execution_count": 31,
     "metadata": {},
     "output_type": "execute_result"
    }
   ],
   "source": [
    "df_reviews.shape"
   ]
  },
  {
   "cell_type": "code",
   "execution_count": null,
   "metadata": {},
   "outputs": [],
   "source": [
    "# Renombro columnas para saber que son originales y no modificadas\n",
    "\n",
    "df_reviews = df_reviews.rename(columns={'posted': 'reviews_date'})\n",
    "df_reviews = df_reviews.rename(columns={'item_id': 'reviews_item_id'})\n",
    "df_reviews = df_reviews.rename(columns={'recommend': 'reviews_recommend'})\n",
    "df_reviews = df_reviews.rename(columns={'helpful': 'reviews_helpful'})\n",
    "\n",
    "df_reviews.head()\n"
   ]
  },
  {
   "cell_type": "code",
   "execution_count": null,
   "metadata": {},
   "outputs": [],
   "source": [
    "df_reviews.info()"
   ]
  },
  {
   "cell_type": "code",
   "execution_count": 34,
   "metadata": {},
   "outputs": [],
   "source": [
    "df_reviews.to_parquet('df_reviews.parquet')"
   ]
  },
  {
   "cell_type": "code",
   "execution_count": 35,
   "metadata": {},
   "outputs": [
    {
     "name": "stdout",
     "output_type": "stream",
     "text": [
      "La cantidad de registros que hay son: 1741916\n"
     ]
    }
   ],
   "source": [
    "# Reviso número de registros\n",
    "\n",
    "print(f'La cantidad de registros que hay son: {df_reviews.shape[0]}')"
   ]
  },
  {
   "cell_type": "code",
   "execution_count": 36,
   "metadata": {},
   "outputs": [],
   "source": [
    "# Pero realmente necesito solo los registros que tengan información en reviews_helpful     \n",
    "# así que borro los que tengan en esa casillas y para eso voy a revisar los valores unicos"
   ]
  },
  {
   "cell_type": "code",
   "execution_count": null,
   "metadata": {},
   "outputs": [],
   "source": [
    "valores_unicos = df_reviews['reviews_helpful'].unique()\n",
    "valores_unicos\n",
    "print(valores_unicos)"
   ]
  },
  {
   "cell_type": "code",
   "execution_count": null,
   "metadata": {},
   "outputs": [],
   "source": [
    "df_reviews.info()"
   ]
  },
  {
   "cell_type": "code",
   "execution_count": 39,
   "metadata": {},
   "outputs": [
    {
     "data": {
      "text/plain": [
       "(1741916, 7)"
      ]
     },
     "execution_count": 39,
     "metadata": {},
     "output_type": "execute_result"
    }
   ],
   "source": [
    "df_reviews.shape"
   ]
  },
  {
   "cell_type": "code",
   "execution_count": 40,
   "metadata": {},
   "outputs": [],
   "source": [
    "# Voy a borrar la filas que contengan 'No ratings yet'\n",
    "\n",
    "filas_a_borrar = df_reviews[df_reviews['reviews_helpful'] == 'No ratings yet'].index\n",
    "df_reviews = df_reviews.drop(filas_a_borrar)"
   ]
  },
  {
   "cell_type": "code",
   "execution_count": 41,
   "metadata": {},
   "outputs": [
    {
     "data": {
      "text/plain": [
       "(1685956, 7)"
      ]
     },
     "execution_count": 41,
     "metadata": {},
     "output_type": "execute_result"
    }
   ],
   "source": [
    "# Ahora si cuento cuantos raiting tengo \n",
    "\n",
    "df_reviews.shape"
   ]
  },
  {
   "cell_type": "code",
   "execution_count": 42,
   "metadata": {},
   "outputs": [
    {
     "name": "stdout",
     "output_type": "stream",
     "text": [
      "La cantidad de registros que hay son: 1685956\n"
     ]
    }
   ],
   "source": [
    "# Numero de raitings para el modelo\n",
    "\n",
    "print(f'La cantidad de registros que hay son: {df_reviews.shape[0]}')"
   ]
  },
  {
   "cell_type": "code",
   "execution_count": null,
   "metadata": {},
   "outputs": [],
   "source": [
    "# Ahora no tengo como contar y revisar porcentajes toca hacer una función resumen_cant_porcentaje para para resumir la cantidad y el porcentaje de \n",
    "#ocurrencias de cada valor en una columna específica.\n",
    "\n",
    "# En el archivo Datos_Modelo voy a incluir la función y luego la llamo en este notbook. voy a utilizar convencion utils s ver si pueo mantener el codigo organizado\n",
    "\n",
    "# Me tocó hacer un libro en py para utilizar la función que haga"
   ]
  },
  {
   "cell_type": "code",
   "execution_count": 43,
   "metadata": {},
   "outputs": [
    {
     "data": {
      "text/html": [
       "<div>\n",
       "<style scoped>\n",
       "    .dataframe tbody tr th:only-of-type {\n",
       "        vertical-align: middle;\n",
       "    }\n",
       "\n",
       "    .dataframe tbody tr th {\n",
       "        vertical-align: top;\n",
       "    }\n",
       "\n",
       "    .dataframe thead th {\n",
       "        text-align: right;\n",
       "    }\n",
       "</style>\n",
       "<table border=\"1\" class=\"dataframe\">\n",
       "  <thead>\n",
       "    <tr style=\"text-align: right;\">\n",
       "      <th></th>\n",
       "      <th>Cantidad</th>\n",
       "      <th>Porcentaje</th>\n",
       "    </tr>\n",
       "    <tr>\n",
       "      <th>reviews_recommend</th>\n",
       "      <th></th>\n",
       "      <th></th>\n",
       "    </tr>\n",
       "  </thead>\n",
       "  <tbody>\n",
       "    <tr>\n",
       "      <th>True</th>\n",
       "      <td>1502685</td>\n",
       "      <td>89.13</td>\n",
       "    </tr>\n",
       "    <tr>\n",
       "      <th>False</th>\n",
       "      <td>183271</td>\n",
       "      <td>10.87</td>\n",
       "    </tr>\n",
       "  </tbody>\n",
       "</table>\n",
       "</div>"
      ],
      "text/plain": [
       "                   Cantidad  Porcentaje\n",
       "reviews_recommend                      \n",
       "True                1502685       89.13\n",
       "False                183271       10.87"
      ]
     },
     "execution_count": 43,
     "metadata": {},
     "output_type": "execute_result"
    }
   ],
   "source": [
    "# Exploro columna reviws_recommend\n",
    "utils.resumen_cant_porcentaje(df_reviews, 'reviews_recommend')"
   ]
  },
  {
   "cell_type": "code",
   "execution_count": 44,
   "metadata": {},
   "outputs": [
    {
     "data": {
      "text/html": [
       "<div>\n",
       "<style scoped>\n",
       "    .dataframe tbody tr th:only-of-type {\n",
       "        vertical-align: middle;\n",
       "    }\n",
       "\n",
       "    .dataframe tbody tr th {\n",
       "        vertical-align: top;\n",
       "    }\n",
       "\n",
       "    .dataframe thead th {\n",
       "        text-align: right;\n",
       "    }\n",
       "</style>\n",
       "<table border=\"1\" class=\"dataframe\">\n",
       "  <thead>\n",
       "    <tr style=\"text-align: right;\">\n",
       "      <th></th>\n",
       "      <th>Cantidad</th>\n",
       "      <th>Porcentaje</th>\n",
       "    </tr>\n",
       "    <tr>\n",
       "      <th>sentiment_analysis</th>\n",
       "      <th></th>\n",
       "      <th></th>\n",
       "    </tr>\n",
       "  </thead>\n",
       "  <tbody>\n",
       "    <tr>\n",
       "      <th>2</th>\n",
       "      <td>936839</td>\n",
       "      <td>55.57</td>\n",
       "    </tr>\n",
       "    <tr>\n",
       "      <th>1</th>\n",
       "      <td>402788</td>\n",
       "      <td>23.89</td>\n",
       "    </tr>\n",
       "    <tr>\n",
       "      <th>0</th>\n",
       "      <td>346329</td>\n",
       "      <td>20.54</td>\n",
       "    </tr>\n",
       "  </tbody>\n",
       "</table>\n",
       "</div>"
      ],
      "text/plain": [
       "                    Cantidad  Porcentaje\n",
       "sentiment_analysis                      \n",
       "2                     936839       55.57\n",
       "1                     402788       23.89\n",
       "0                     346329       20.54"
      ]
     },
     "execution_count": 44,
     "metadata": {},
     "output_type": "execute_result"
    }
   ],
   "source": [
    "# Exploro columna sentimenr_analysis\n",
    "\n",
    "utils.resumen_cant_porcentaje(df_reviews, 'sentiment_analysis')"
   ]
  },
  {
   "cell_type": "code",
   "execution_count": null,
   "metadata": {},
   "outputs": [],
   "source": [
    "''' de estos resultados puedo concluir qe en cuento a comentarios positivos  o sea reviews recommend el 89% son comentarios positivos\n",
    "y en cuento al sentyment analisis  el 23% es neutral, el 20,54% tiene un punto de vista negativo pero el 93,6 considera un item positivo"
   ]
  },
  {
   "cell_type": "code",
   "execution_count": 45,
   "metadata": {},
   "outputs": [],
   "source": [
    "# Ahora quiero  ver la cantidad de recomendaciones para los distintos sentimientos de las reviews. asi que voy a agrupar por 'sentiment_analysis' y 'reviews_recommend'\n",
    "\n",
    "df_agrupado = df_reviews.groupby(['sentiment_analysis', 'reviews_recommend'])\n"
   ]
  },
  {
   "cell_type": "code",
   "execution_count": 46,
   "metadata": {},
   "outputs": [],
   "source": [
    "# Se cuentan la cantidad de reviews en cada grupo\n",
    "cantidad_grupo = df_agrupado.size()"
   ]
  },
  {
   "cell_type": "code",
   "execution_count": 47,
   "metadata": {},
   "outputs": [],
   "source": [
    "# Se calcula el porcentaje por cada grupo\n",
    "porcentaje_grupo = 100 * df_agrupado.size() / len(df_reviews)"
   ]
  },
  {
   "cell_type": "code",
   "execution_count": 48,
   "metadata": {},
   "outputs": [],
   "source": [
    "sentimiento_recomendacion = pd.DataFrame({\n",
    "    \"Cantidad\": cantidad_grupo,\n",
    "    \"Porcentaje\": porcentaje_grupo\n",
    "})"
   ]
  },
  {
   "cell_type": "code",
   "execution_count": 49,
   "metadata": {},
   "outputs": [
    {
     "data": {
      "text/html": [
       "<div>\n",
       "<style scoped>\n",
       "    .dataframe tbody tr th:only-of-type {\n",
       "        vertical-align: middle;\n",
       "    }\n",
       "\n",
       "    .dataframe tbody tr th {\n",
       "        vertical-align: top;\n",
       "    }\n",
       "\n",
       "    .dataframe thead th {\n",
       "        text-align: right;\n",
       "    }\n",
       "</style>\n",
       "<table border=\"1\" class=\"dataframe\">\n",
       "  <thead>\n",
       "    <tr style=\"text-align: right;\">\n",
       "      <th></th>\n",
       "      <th></th>\n",
       "      <th>Cantidad</th>\n",
       "      <th>Porcentaje</th>\n",
       "    </tr>\n",
       "    <tr>\n",
       "      <th>sentiment_analysis</th>\n",
       "      <th>reviews_recommend</th>\n",
       "      <th></th>\n",
       "      <th></th>\n",
       "    </tr>\n",
       "  </thead>\n",
       "  <tbody>\n",
       "    <tr>\n",
       "      <th rowspan=\"2\" valign=\"top\">0</th>\n",
       "      <th>False</th>\n",
       "      <td>86484</td>\n",
       "      <td>5.129671</td>\n",
       "    </tr>\n",
       "    <tr>\n",
       "      <th>True</th>\n",
       "      <td>259845</td>\n",
       "      <td>15.412324</td>\n",
       "    </tr>\n",
       "    <tr>\n",
       "      <th rowspan=\"2\" valign=\"top\">1</th>\n",
       "      <th>False</th>\n",
       "      <td>42434</td>\n",
       "      <td>2.516910</td>\n",
       "    </tr>\n",
       "    <tr>\n",
       "      <th>True</th>\n",
       "      <td>360354</td>\n",
       "      <td>21.373867</td>\n",
       "    </tr>\n",
       "    <tr>\n",
       "      <th rowspan=\"2\" valign=\"top\">2</th>\n",
       "      <th>False</th>\n",
       "      <td>54353</td>\n",
       "      <td>3.223868</td>\n",
       "    </tr>\n",
       "    <tr>\n",
       "      <th>True</th>\n",
       "      <td>882486</td>\n",
       "      <td>52.343359</td>\n",
       "    </tr>\n",
       "  </tbody>\n",
       "</table>\n",
       "</div>"
      ],
      "text/plain": [
       "                                      Cantidad  Porcentaje\n",
       "sentiment_analysis reviews_recommend                      \n",
       "0                  False                 86484    5.129671\n",
       "                   True                 259845   15.412324\n",
       "1                  False                 42434    2.516910\n",
       "                   True                 360354   21.373867\n",
       "2                  False                 54353    3.223868\n",
       "                   True                 882486   52.343359"
      ]
     },
     "execution_count": 49,
     "metadata": {},
     "output_type": "execute_result"
    }
   ],
   "source": [
    "sentimiento_recomendacion"
   ]
  },
  {
   "cell_type": "code",
   "execution_count": null,
   "metadata": {},
   "outputs": [],
   "source": [
    "# Se puede ver que el porcentaje respecto del total de los reviews que casi el 54% de los reviews que reflejan un sentimiento neutral\n",
    "# recomienda el juego por lo que un sentimiento neutral podría estar relacionado con un comentario sencillo sin muchos detalles pero \n",
    "# que aún así el juego le gustó como para recomendar. Por otra parte, de los comentarios que reflejaron un sentimiento negativo cerca \n",
    "# del 6% aún recomienda el juego, lo que es algo contradictorio."
   ]
  }
 ],
 "metadata": {
  "kernelspec": {
   "display_name": "venv",
   "language": "python",
   "name": "python3"
  },
  "language_info": {
   "codemirror_mode": {
    "name": "ipython",
    "version": 3
   },
   "file_extension": ".py",
   "mimetype": "text/x-python",
   "name": "python",
   "nbconvert_exporter": "python",
   "pygments_lexer": "ipython3",
   "version": "3.12.1"
  }
 },
 "nbformat": 4,
 "nbformat_minor": 2
}
