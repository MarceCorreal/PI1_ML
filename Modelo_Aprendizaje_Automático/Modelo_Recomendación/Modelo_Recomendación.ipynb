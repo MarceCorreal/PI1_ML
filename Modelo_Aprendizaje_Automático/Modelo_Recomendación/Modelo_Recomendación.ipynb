{
 "cells": [
  {
   "cell_type": "code",
   "execution_count": 1,
   "metadata": {},
   "outputs": [],
   "source": [
    "import pandas as pd\n",
    "import numpy as np\n",
    "\n",
    "import scipy as sp\n",
    "from sklearn.metrics.pairwise import cosine_similarity\n",
    "import operator\n",
    "\n",
    "import pyarrow as pa\n",
    "import pyarrow.parquet as pq"
   ]
  },
  {
   "cell_type": "code",
   "execution_count": 2,
   "metadata": {},
   "outputs": [],
   "source": [
    "# Abro los datos que se prepararon en la carpeta datos_modelo llamada df_reviews en \"C:\\Users\\Usuario\\Henry\\PI1_ML\\Modelo_Aprendizaje_Automático\\EDA_Datos_Modelo\\df_reviews.parquet\"\n",
    "\n",
    "# Ruta al archivo parquet\n",
    "ruta_parquet = r\"C:\\Users\\Usuario\\Henry\\PI1_ML\\Modelo_Aprendizaje_Automático\\EDA_Datos_Modelo\\df_reviews.parquet\"\n",
    "\n",
    "# Leer el archivo parquet y convertirlo en un DataFrame\n",
    "df_reviews = pd.read_parquet(ruta_parquet)"
   ]
  },
  {
   "cell_type": "code",
   "execution_count": null,
   "metadata": {},
   "outputs": [],
   "source": [
    "df_reviews.head()"
   ]
  },
  {
   "cell_type": "code",
   "execution_count": null,
   "metadata": {},
   "outputs": [],
   "source": [
    "# Se desarrolla el primer modelo, en donde se utiliza una relación ítem-ítem, sugiriendo juegos similares basándose en la similitud con el juego proporcionado."
   ]
  },
  {
   "cell_type": "code",
   "execution_count": null,
   "metadata": {},
   "outputs": [],
   "source": [
    "''' Se utilizará la función función pivot_table() para crear una tabla dinámica (pivot table) a partir del dataframe "
   ]
  }
 ],
 "metadata": {
  "kernelspec": {
   "display_name": "venv",
   "language": "python",
   "name": "python3"
  },
  "language_info": {
   "codemirror_mode": {
    "name": "ipython",
    "version": 3
   },
   "file_extension": ".py",
   "mimetype": "text/x-python",
   "name": "python",
   "nbconvert_exporter": "python",
   "pygments_lexer": "ipython3",
   "version": "3.12.1"
  }
 },
 "nbformat": 4,
 "nbformat_minor": 2
}
