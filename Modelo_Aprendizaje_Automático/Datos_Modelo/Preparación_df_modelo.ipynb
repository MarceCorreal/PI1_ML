{
 "cells": [
  {
   "cell_type": "code",
   "execution_count": null,
   "metadata": {},
   "outputs": [],
   "source": [
    "# Importaciones de bibliotecas necesarias\n",
    "import pandas as pd  # Pandas para manipulación de datos tabulares\n",
    "import json  # Módulo para trabajar con JSON\n",
    "import ast  # Módulo para evaluar expresiones literales de Python\n",
    "import re  # Módulo para trabajar con expresiones regulares\n",
    "from textblob import TextBlob # Importa la clase TextBlob desde la biblioteca TextBlob\n",
    "import nltk # Importa la biblioteca nltk (Natural Language Toolkit)\n",
    "import csv # Importa el módulo csv en Python\n",
    "import utils\n",
    "\n",
    "# Habilita la recarga automática de módulos antes de ejecutar una celda\n",
    "%load_ext autoreload\n",
    "%autoreload 2\n",
    "\n",
    "# Importa el módulo de advertencias y configura para ignorar todas las advertencias\n",
    "import warnings\n",
    "warnings.filterwarnings(\"ignore\")"
   ]
  },
  {
   "cell_type": "code",
   "execution_count": null,
   "metadata": {},
   "outputs": [],
   "source": [
    "''' El objetivo del modelo de recomendación es generar una lista de 5 juegos al proporcionar \n",
    "el nombre de un juego o el ID de un usuario. Esta recomendación se basa en un puntaje que \n",
    "debe ser determinado. Para lograr esto, se examinan los dataframes df_reviews y df_items, \n",
    "los cuales fueron analizados previamente.'''"
   ]
  },
  {
   "cell_type": "code",
   "execution_count": 5,
   "metadata": {},
   "outputs": [],
   "source": [
    "# Abro los dos dataframes que voy a utilizar\n",
    "\n",
    "# Ruta df_reviews  parquet\n",
    "ruta_df_reviews = r\"C:\\Users\\Usuario\\Henry\\PI1_ML\\Modelo_Aprendizaje_Automático\\desarrollo_Datos_Modelo.ipynb\\df_reviews.parquet\"\n",
    "\n",
    "# Leer el archivo parquet y convertirlo en un DataFrame\n",
    "df_reviews= pd.read_parquet(ruta_df_reviews)"
   ]
  },
  {
   "cell_type": "code",
   "execution_count": 4,
   "metadata": {},
   "outputs": [],
   "source": [
    "# Ruta df_items parquet\n",
    "ruta_df_items = r\"C:\\Users\\Usuario\\Henry\\PI1_ML\\Modelo_Aprendizaje_Automático\\desarrollo_Datos_Modelo.ipynb\\df_items.parquet\"\n",
    "\n",
    "# Leer el archivo CSV y convertirlo en un DataFrame\n",
    "df_items = pd.read_parquet(ruta_df_items)"
   ]
  },
  {
   "cell_type": "code",
   "execution_count": 7,
   "metadata": {},
   "outputs": [
    {
     "name": "stdout",
     "output_type": "stream",
     "text": [
      "<class 'pandas.core.frame.DataFrame'>\n",
      "Index: 1741916 entries, 0 to 43706992\n",
      "Data columns (total 7 columns):\n",
      " #   Column              Dtype \n",
      "---  ------              ----- \n",
      " 0   user_id             object\n",
      " 1   user_url            object\n",
      " 2   reviews_date        object\n",
      " 3   reviews_item_id     object\n",
      " 4   reviews_recommend   bool  \n",
      " 5   sentiment_analysis  int64 \n",
      " 6   reviews_helpful     object\n",
      "dtypes: bool(1), int64(1), object(5)\n",
      "memory usage: 94.7+ MB\n"
     ]
    }
   ],
   "source": [
    "df_reviews.info()"
   ]
  },
  {
   "cell_type": "code",
   "execution_count": 8,
   "metadata": {},
   "outputs": [
    {
     "name": "stdout",
     "output_type": "stream",
     "text": [
      "<class 'pandas.core.frame.DataFrame'>\n",
      "Index: 5062823 entries, 0 to 5153208\n",
      "Data columns (total 7 columns):\n",
      " #   Column            Dtype  \n",
      "---  ------            -----  \n",
      " 0   user_id           object \n",
      " 1   items_count       int64  \n",
      " 2   user_url          object \n",
      " 3   item_id           object \n",
      " 4   item_name         object \n",
      " 5   playtime_forever  float64\n",
      " 6   playtime_2weeks   float64\n",
      "dtypes: float64(2), int64(1), object(4)\n",
      "memory usage: 309.0+ MB\n"
     ]
    }
   ],
   "source": [
    "df_items.info()"
   ]
  },
  {
   "cell_type": "code",
   "execution_count": null,
   "metadata": {},
   "outputs": [],
   "source": [
    "''' Crearé un puntaje (rating) para los juegos utilizando el análisis de sentimiento de las reviews \n",
    "y las recomendaciones de los usuarios. El análisis de sentimiento se clasifica como 0 (negativo), 1 (neutral) y 2 (positivo), mientras que las recomendaciones son True (recomienda el juego) y False (no lo recomienda). El puntaje varía de 1 a 5, donde 1 indica un juego no recomendado con reviews negativas, y 5 indica un juego recomendado con reviews positivas. \n",
    "La escala se determina considerando la combinación de ambas variables de la siguiente manera:\n",
    "    \n",
    "1: Sentimiento negativo, si el sentimiento es negativo pues no lo va a recomendar\n",
    "2: Sentimiento neutral y no recomendado.\n",
    "3: Sentimiento neutral y recomendado.\n",
    "4: Sentimiento positivo y no recomendado.\n",
    "5: Sentimiento positivo y recomendado.'''"
   ]
  },
  {
   "cell_type": "code",
   "execution_count": 19,
   "metadata": {},
   "outputs": [
    {
     "ename": "NameError",
     "evalue": "name 'utils' is not defined",
     "output_type": "error",
     "traceback": [
      "\u001b[1;31m---------------------------------------------------------------------------\u001b[0m",
      "\u001b[1;31mNameError\u001b[0m                                 Traceback (most recent call last)",
      "Cell \u001b[1;32mIn[19], line 3\u001b[0m\n\u001b[0;32m      1\u001b[0m \u001b[38;5;66;03m# creo columna raitings en en df_reviews, para eso utilizo la funcion calcula rating que está en utils\u001b[39;00m\n\u001b[1;32m----> 3\u001b[0m df_reviews[\u001b[38;5;124m'\u001b[39m\u001b[38;5;124mrating\u001b[39m\u001b[38;5;124m'\u001b[39m] \u001b[38;5;241m=\u001b[39m df_reviews\u001b[38;5;241m.\u001b[39mapply(\u001b[43mutils\u001b[49m\u001b[38;5;241m.\u001b[39mcalcula_rating, axis\u001b[38;5;241m=\u001b[39m\u001b[38;5;241m1\u001b[39m)\n\u001b[0;32m      4\u001b[0m df_reviews\u001b[38;5;241m.\u001b[39msample(\u001b[38;5;241m5\u001b[39m)\n",
      "\u001b[1;31mNameError\u001b[0m: name 'utils' is not defined"
     ]
    }
   ],
   "source": [
    "# creo columna raitings en en df_reviews, para eso utilizo la funcion calcula rating que está en utils\n",
    "\n",
    "df_reviews['rating'] = df_reviews.apply(calcula_rating, axis=1)\n",
    "df_reviews.sample(5)"
   ]
  }
 ],
 "metadata": {
  "kernelspec": {
   "display_name": "venv",
   "language": "python",
   "name": "python3"
  },
  "language_info": {
   "codemirror_mode": {
    "name": "ipython",
    "version": 3
   },
   "file_extension": ".py",
   "mimetype": "text/x-python",
   "name": "python",
   "nbconvert_exporter": "python",
   "pygments_lexer": "ipython3",
   "version": "3.12.1"
  }
 },
 "nbformat": 4,
 "nbformat_minor": 2
}
